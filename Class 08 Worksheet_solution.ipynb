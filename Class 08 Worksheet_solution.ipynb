{
 "cells": [
  {
   "cell_type": "code",
   "execution_count": 1,
   "id": "a1eff5df-e219-4dc8-8a22-40ce22763213",
   "metadata": {
    "slideshow": {
     "slide_type": "slide"
    },
    "tags": []
   },
   "outputs": [],
   "source": [
    "#Run the following code to print multiple outputs from a cell\n",
    "get_ipython().ast_node_interactivity = 'all'"
   ]
  },
  {
   "cell_type": "markdown",
   "id": "95f0fa0c-294a-483a-b6e5-f82f1ba0e822",
   "metadata": {},
   "source": [
    "# Class 08 Worksheet\n",
    "\n",
    "## Importing & Profiling the Data\n",
    "Import the file, \"creditCardDefaultReduced.csv\", and save it in a variable called `df`. Then, do some initial data profiling of the data. "
   ]
  },
  {
   "cell_type": "code",
   "execution_count": 2,
   "id": "9a3f3516-7be8-4b4e-bf29-f4804f38465b",
   "metadata": {},
   "outputs": [
    {
     "data": {
      "text/html": [
       "<div>\n",
       "<style scoped>\n",
       "    .dataframe tbody tr th:only-of-type {\n",
       "        vertical-align: middle;\n",
       "    }\n",
       "\n",
       "    .dataframe tbody tr th {\n",
       "        vertical-align: top;\n",
       "    }\n",
       "\n",
       "    .dataframe thead th {\n",
       "        text-align: right;\n",
       "    }\n",
       "</style>\n",
       "<table border=\"1\" class=\"dataframe\">\n",
       "  <thead>\n",
       "    <tr style=\"text-align: right;\">\n",
       "      <th></th>\n",
       "      <th>Limit_Bal</th>\n",
       "      <th>Education</th>\n",
       "      <th>Marriage</th>\n",
       "      <th>Age</th>\n",
       "      <th>Pay_0</th>\n",
       "      <th>Bill_Amt1</th>\n",
       "      <th>Pay_Amt1</th>\n",
       "      <th>Payment</th>\n",
       "      <th>Card</th>\n",
       "    </tr>\n",
       "  </thead>\n",
       "  <tbody>\n",
       "    <tr>\n",
       "      <th>0</th>\n",
       "      <td>20000</td>\n",
       "      <td>University</td>\n",
       "      <td>married</td>\n",
       "      <td>24</td>\n",
       "      <td>Delay2</td>\n",
       "      <td>3913</td>\n",
       "      <td>0</td>\n",
       "      <td>Missed</td>\n",
       "      <td>Normal</td>\n",
       "    </tr>\n",
       "    <tr>\n",
       "      <th>1</th>\n",
       "      <td>120000</td>\n",
       "      <td>University</td>\n",
       "      <td>single</td>\n",
       "      <td>26</td>\n",
       "      <td>ontime</td>\n",
       "      <td>2682</td>\n",
       "      <td>0</td>\n",
       "      <td>Missed</td>\n",
       "      <td>Normal</td>\n",
       "    </tr>\n",
       "    <tr>\n",
       "      <th>2</th>\n",
       "      <td>90000</td>\n",
       "      <td>University</td>\n",
       "      <td>single</td>\n",
       "      <td>34</td>\n",
       "      <td>Delay0</td>\n",
       "      <td>29239</td>\n",
       "      <td>1518</td>\n",
       "      <td>Paid</td>\n",
       "      <td>Normal</td>\n",
       "    </tr>\n",
       "    <tr>\n",
       "      <th>3</th>\n",
       "      <td>50000</td>\n",
       "      <td>University</td>\n",
       "      <td>married</td>\n",
       "      <td>37</td>\n",
       "      <td>Delay0</td>\n",
       "      <td>46990</td>\n",
       "      <td>2000</td>\n",
       "      <td>Paid</td>\n",
       "      <td>Normal</td>\n",
       "    </tr>\n",
       "    <tr>\n",
       "      <th>4</th>\n",
       "      <td>50000</td>\n",
       "      <td>University</td>\n",
       "      <td>married</td>\n",
       "      <td>57</td>\n",
       "      <td>ontime</td>\n",
       "      <td>8617</td>\n",
       "      <td>2000</td>\n",
       "      <td>Paid</td>\n",
       "      <td>Gold</td>\n",
       "    </tr>\n",
       "    <tr>\n",
       "      <th>...</th>\n",
       "      <td>...</td>\n",
       "      <td>...</td>\n",
       "      <td>...</td>\n",
       "      <td>...</td>\n",
       "      <td>...</td>\n",
       "      <td>...</td>\n",
       "      <td>...</td>\n",
       "      <td>...</td>\n",
       "      <td>...</td>\n",
       "    </tr>\n",
       "    <tr>\n",
       "      <th>29995</th>\n",
       "      <td>220000</td>\n",
       "      <td>High school</td>\n",
       "      <td>married</td>\n",
       "      <td>39</td>\n",
       "      <td>Delay0</td>\n",
       "      <td>188948</td>\n",
       "      <td>8500</td>\n",
       "      <td>Paid</td>\n",
       "      <td>Gold</td>\n",
       "    </tr>\n",
       "    <tr>\n",
       "      <th>29996</th>\n",
       "      <td>150000</td>\n",
       "      <td>High school</td>\n",
       "      <td>single</td>\n",
       "      <td>43</td>\n",
       "      <td>ontime</td>\n",
       "      <td>1683</td>\n",
       "      <td>1837</td>\n",
       "      <td>Paid</td>\n",
       "      <td>Gold</td>\n",
       "    </tr>\n",
       "    <tr>\n",
       "      <th>29997</th>\n",
       "      <td>30000</td>\n",
       "      <td>University</td>\n",
       "      <td>single</td>\n",
       "      <td>37</td>\n",
       "      <td>Delay4</td>\n",
       "      <td>3565</td>\n",
       "      <td>0</td>\n",
       "      <td>Missed</td>\n",
       "      <td>Gold</td>\n",
       "    </tr>\n",
       "    <tr>\n",
       "      <th>29998</th>\n",
       "      <td>80000</td>\n",
       "      <td>High school</td>\n",
       "      <td>married</td>\n",
       "      <td>41</td>\n",
       "      <td>Delay1</td>\n",
       "      <td>-1645</td>\n",
       "      <td>85900</td>\n",
       "      <td>Missed</td>\n",
       "      <td>Gold</td>\n",
       "    </tr>\n",
       "    <tr>\n",
       "      <th>29999</th>\n",
       "      <td>50000</td>\n",
       "      <td>University</td>\n",
       "      <td>married</td>\n",
       "      <td>46</td>\n",
       "      <td>Delay0</td>\n",
       "      <td>47929</td>\n",
       "      <td>2078</td>\n",
       "      <td>Missed</td>\n",
       "      <td>Gold</td>\n",
       "    </tr>\n",
       "  </tbody>\n",
       "</table>\n",
       "<p>30000 rows × 9 columns</p>\n",
       "</div>"
      ],
      "text/plain": [
       "       Limit_Bal    Education Marriage  Age   Pay_0  Bill_Amt1  Pay_Amt1  \\\n",
       "0          20000   University  married   24  Delay2       3913         0   \n",
       "1         120000   University   single   26  ontime       2682         0   \n",
       "2          90000   University   single   34  Delay0      29239      1518   \n",
       "3          50000   University  married   37  Delay0      46990      2000   \n",
       "4          50000   University  married   57  ontime       8617      2000   \n",
       "...          ...          ...      ...  ...     ...        ...       ...   \n",
       "29995     220000  High school  married   39  Delay0     188948      8500   \n",
       "29996     150000  High school   single   43  ontime       1683      1837   \n",
       "29997      30000   University   single   37  Delay4       3565         0   \n",
       "29998      80000  High school  married   41  Delay1      -1645     85900   \n",
       "29999      50000   University  married   46  Delay0      47929      2078   \n",
       "\n",
       "      Payment    Card  \n",
       "0      Missed  Normal  \n",
       "1      Missed  Normal  \n",
       "2        Paid  Normal  \n",
       "3        Paid  Normal  \n",
       "4        Paid    Gold  \n",
       "...       ...     ...  \n",
       "29995    Paid    Gold  \n",
       "29996    Paid    Gold  \n",
       "29997  Missed    Gold  \n",
       "29998  Missed    Gold  \n",
       "29999  Missed    Gold  \n",
       "\n",
       "[30000 rows x 9 columns]"
      ]
     },
     "execution_count": 2,
     "metadata": {},
     "output_type": "execute_result"
    }
   ],
   "source": [
    "import pandas as pd\n",
    "df = pd.read_csv(\"creditCardDefaultReduced.csv\")\n",
    "df"
   ]
  },
  {
   "cell_type": "code",
   "execution_count": 3,
   "id": "dbac169b-3b60-409d-9a82-920667083c70",
   "metadata": {},
   "outputs": [
    {
     "data": {
      "text/plain": [
       "Limit_Bal     int64\n",
       "Education    object\n",
       "Marriage     object\n",
       "Age           int64\n",
       "Pay_0        object\n",
       "Bill_Amt1     int64\n",
       "Pay_Amt1      int64\n",
       "Payment      object\n",
       "Card         object\n",
       "dtype: object"
      ]
     },
     "execution_count": 3,
     "metadata": {},
     "output_type": "execute_result"
    },
    {
     "data": {
      "text/plain": [
       "Limit_Bal    0\n",
       "Education    0\n",
       "Marriage     0\n",
       "Age          0\n",
       "Pay_0        0\n",
       "Bill_Amt1    0\n",
       "Pay_Amt1     0\n",
       "Payment      0\n",
       "Card         0\n",
       "dtype: int64"
      ]
     },
     "execution_count": 3,
     "metadata": {},
     "output_type": "execute_result"
    }
   ],
   "source": [
    "df.dtypes\n",
    "df.isna().sum()"
   ]
  },
  {
   "cell_type": "code",
   "execution_count": 4,
   "id": "559fcdc6-3844-46d4-8d0a-3a3afb3a0ab3",
   "metadata": {},
   "outputs": [
    {
     "data": {
      "text/html": [
       "<div>\n",
       "<style scoped>\n",
       "    .dataframe tbody tr th:only-of-type {\n",
       "        vertical-align: middle;\n",
       "    }\n",
       "\n",
       "    .dataframe tbody tr th {\n",
       "        vertical-align: top;\n",
       "    }\n",
       "\n",
       "    .dataframe thead th {\n",
       "        text-align: right;\n",
       "    }\n",
       "</style>\n",
       "<table border=\"1\" class=\"dataframe\">\n",
       "  <thead>\n",
       "    <tr style=\"text-align: right;\">\n",
       "      <th></th>\n",
       "      <th>Limit_Bal</th>\n",
       "      <th>Age</th>\n",
       "      <th>Bill_Amt1</th>\n",
       "      <th>Pay_Amt1</th>\n",
       "    </tr>\n",
       "  </thead>\n",
       "  <tbody>\n",
       "    <tr>\n",
       "      <th>count</th>\n",
       "      <td>30000.000000</td>\n",
       "      <td>30000.000000</td>\n",
       "      <td>30000.000000</td>\n",
       "      <td>30000.000000</td>\n",
       "    </tr>\n",
       "    <tr>\n",
       "      <th>mean</th>\n",
       "      <td>167484.322667</td>\n",
       "      <td>35.485500</td>\n",
       "      <td>51223.330900</td>\n",
       "      <td>5663.580500</td>\n",
       "    </tr>\n",
       "    <tr>\n",
       "      <th>std</th>\n",
       "      <td>129747.661567</td>\n",
       "      <td>9.217904</td>\n",
       "      <td>73635.860576</td>\n",
       "      <td>16563.280354</td>\n",
       "    </tr>\n",
       "    <tr>\n",
       "      <th>min</th>\n",
       "      <td>10000.000000</td>\n",
       "      <td>21.000000</td>\n",
       "      <td>-165580.000000</td>\n",
       "      <td>0.000000</td>\n",
       "    </tr>\n",
       "    <tr>\n",
       "      <th>25%</th>\n",
       "      <td>50000.000000</td>\n",
       "      <td>28.000000</td>\n",
       "      <td>3558.750000</td>\n",
       "      <td>1000.000000</td>\n",
       "    </tr>\n",
       "    <tr>\n",
       "      <th>50%</th>\n",
       "      <td>140000.000000</td>\n",
       "      <td>34.000000</td>\n",
       "      <td>22381.500000</td>\n",
       "      <td>2100.000000</td>\n",
       "    </tr>\n",
       "    <tr>\n",
       "      <th>75%</th>\n",
       "      <td>240000.000000</td>\n",
       "      <td>41.000000</td>\n",
       "      <td>67091.000000</td>\n",
       "      <td>5006.000000</td>\n",
       "    </tr>\n",
       "    <tr>\n",
       "      <th>max</th>\n",
       "      <td>1000000.000000</td>\n",
       "      <td>79.000000</td>\n",
       "      <td>964511.000000</td>\n",
       "      <td>873552.000000</td>\n",
       "    </tr>\n",
       "  </tbody>\n",
       "</table>\n",
       "</div>"
      ],
      "text/plain": [
       "            Limit_Bal           Age      Bill_Amt1       Pay_Amt1\n",
       "count    30000.000000  30000.000000   30000.000000   30000.000000\n",
       "mean    167484.322667     35.485500   51223.330900    5663.580500\n",
       "std     129747.661567      9.217904   73635.860576   16563.280354\n",
       "min      10000.000000     21.000000 -165580.000000       0.000000\n",
       "25%      50000.000000     28.000000    3558.750000    1000.000000\n",
       "50%     140000.000000     34.000000   22381.500000    2100.000000\n",
       "75%     240000.000000     41.000000   67091.000000    5006.000000\n",
       "max    1000000.000000     79.000000  964511.000000  873552.000000"
      ]
     },
     "execution_count": 4,
     "metadata": {},
     "output_type": "execute_result"
    }
   ],
   "source": [
    "df.describe()"
   ]
  },
  {
   "cell_type": "code",
   "execution_count": 5,
   "id": "e74efeaf-1a55-4f4a-ac49-63648b0df2dc",
   "metadata": {},
   "outputs": [
    {
     "data": {
      "text/plain": [
       "array([[<AxesSubplot: xlabel='Limit_Bal', ylabel='Limit_Bal'>,\n",
       "        <AxesSubplot: xlabel='Age', ylabel='Limit_Bal'>,\n",
       "        <AxesSubplot: xlabel='Bill_Amt1', ylabel='Limit_Bal'>,\n",
       "        <AxesSubplot: xlabel='Pay_Amt1', ylabel='Limit_Bal'>],\n",
       "       [<AxesSubplot: xlabel='Limit_Bal', ylabel='Age'>,\n",
       "        <AxesSubplot: xlabel='Age', ylabel='Age'>,\n",
       "        <AxesSubplot: xlabel='Bill_Amt1', ylabel='Age'>,\n",
       "        <AxesSubplot: xlabel='Pay_Amt1', ylabel='Age'>],\n",
       "       [<AxesSubplot: xlabel='Limit_Bal', ylabel='Bill_Amt1'>,\n",
       "        <AxesSubplot: xlabel='Age', ylabel='Bill_Amt1'>,\n",
       "        <AxesSubplot: xlabel='Bill_Amt1', ylabel='Bill_Amt1'>,\n",
       "        <AxesSubplot: xlabel='Pay_Amt1', ylabel='Bill_Amt1'>],\n",
       "       [<AxesSubplot: xlabel='Limit_Bal', ylabel='Pay_Amt1'>,\n",
       "        <AxesSubplot: xlabel='Age', ylabel='Pay_Amt1'>,\n",
       "        <AxesSubplot: xlabel='Bill_Amt1', ylabel='Pay_Amt1'>,\n",
       "        <AxesSubplot: xlabel='Pay_Amt1', ylabel='Pay_Amt1'>]],\n",
       "      dtype=object)"
      ]
     },
     "execution_count": 5,
     "metadata": {},
     "output_type": "execute_result"
    },
    {
     "data": {
      "image/png": "[encoded data removed]",
      "text/plain": [
       "<Figure size 640x480 with 16 Axes>"
      ]
     },
     "metadata": {},
     "output_type": "display_data"
    }
   ],
   "source": [
    "pd.plotting.scatter_matrix(df)"
   ]
  },
  {
   "cell_type": "code",
   "execution_count": 6,
   "id": "e0d9781b-a604-4414-9033-22c93c8986c2",
   "metadata": {},
   "outputs": [
    {
     "data": {
      "text/plain": [
       "Paid      0.7788\n",
       "Missed    0.2212\n",
       "Name: Payment, dtype: float64"
      ]
     },
     "execution_count": 6,
     "metadata": {},
     "output_type": "execute_result"
    },
    {
     "data": {
      "text/plain": [
       "University         0.467667\n",
       "Graduate school    0.352833\n",
       "High school        0.163900\n",
       "other              0.015600\n",
       "Name: Education, dtype: float64"
      ]
     },
     "execution_count": 6,
     "metadata": {},
     "output_type": "execute_result"
    },
    {
     "data": {
      "text/plain": [
       "single     0.532133\n",
       "married    0.455300\n",
       "other      0.010767\n",
       "unknown    0.001800\n",
       "Name: Marriage, dtype: float64"
      ]
     },
     "execution_count": 6,
     "metadata": {},
     "output_type": "execute_result"
    }
   ],
   "source": [
    "df[\"Payment\"].value_counts(normalize = True)\n",
    "df[\"Education\"].value_counts(normalize = True)\n",
    "df[\"Marriage\"].value_counts(normalize = True)"
   ]
  },
  {
   "cell_type": "markdown",
   "id": "7634f599-5921-42db-9f49-ab18bcc97808",
   "metadata": {},
   "source": [
    "We want to explain the \"Payment\" column, so let's try to make a histogram to see if it's normally distributed:"
   ]
  },
  {
   "cell_type": "code",
   "execution_count": 7,
   "id": "13e1cd12-eb2b-400e-9fcb-8f6d852500de",
   "metadata": {},
   "outputs": [
    {
     "data": {
      "text/plain": [
       "<AxesSubplot: >"
      ]
     },
     "execution_count": 7,
     "metadata": {},
     "output_type": "execute_result"
    },
    {
     "data": {
      "image/png": "[encoded data removed]",
      "text/plain": [
       "<Figure size 640x480 with 1 Axes>"
      ]
     },
     "metadata": {},
     "output_type": "display_data"
    }
   ],
   "source": [
    "df[\"Payment\"].hist()"
   ]
  },
  {
   "cell_type": "markdown",
   "id": "90022f75-eed5-4ffe-a3bc-e7792ee3ee96",
   "metadata": {},
   "source": [
    "This is not continuous data, so we'll use a classification model to predict whether someone will make or miss their payment."
   ]
  },
  {
   "cell_type": "markdown",
   "id": "f22e0c0f-dbc3-4774-9034-4ab0aeea4a80",
   "metadata": {},
   "source": [
    "## Random Number Seeding\n",
    "\n",
    "Random numbers work from seed values. Typically these seed values come from something like the millisecond of the time that you request a random number. Run the following code and see if you get the same number as me: "
   ]
  },
  {
   "cell_type": "code",
   "execution_count": 8,
   "id": "5f2a1955-4d60-4bc6-a57c-20bb46192b8a",
   "metadata": {},
   "outputs": [
    {
     "data": {
      "text/plain": [
       "76"
      ]
     },
     "execution_count": 8,
     "metadata": {},
     "output_type": "execute_result"
    },
    {
     "data": {
      "text/plain": [
       "75"
      ]
     },
     "execution_count": 8,
     "metadata": {},
     "output_type": "execute_result"
    }
   ],
   "source": [
    "import random\n",
    "random.randrange(100)\n",
    "random.randrange(100) # just to show it's not the same number even for you"
   ]
  },
  {
   "cell_type": "markdown",
   "id": "42d067a1-407e-4aed-b1dd-1fb6ade0b81e",
   "metadata": {},
   "source": [
    "**You didn't get the same results (I bet).**\n",
    "\n",
    "Now, run the following code to set the seed and compare your numbers to mine:"
   ]
  },
  {
   "cell_type": "code",
   "execution_count": 9,
   "id": "3f98b32f-1b4a-4179-859d-08108a7417dd",
   "metadata": {},
   "outputs": [
    {
     "data": {
      "text/plain": [
       "14"
      ]
     },
     "execution_count": 9,
     "metadata": {},
     "output_type": "execute_result"
    },
    {
     "data": {
      "text/plain": [
       "95"
      ]
     },
     "execution_count": 9,
     "metadata": {},
     "output_type": "execute_result"
    }
   ],
   "source": [
    "random.seed(28)\n",
    "random.randrange(100)\n",
    "random.randrange(100)"
   ]
  },
  {
   "cell_type": "markdown",
   "id": "4fff13e6-69a5-4b9c-bbb6-86ce262adade",
   "metadata": {},
   "source": [
    "**You got exactly the same results (I hope).**\n",
    "\n",
    "What good is this if numbers aren't random? We do this in class so that we get, for example, the same \"random\" splits for test/training data. Every time you run your code, you'll get the same split. This helps so that (a) our results look similar in class and (b) you can tell that the results you get from changes you make to a model are because of the change you make, not just a different set of random numbers.\n",
    "\n",
    "We will add the parameter `random_state` to our commands below to set the seed. *You can use anything as the seed for the initial random number seed...I've chosen 42 below because 42 is my favorite number.*"
   ]
  },
  {
   "cell_type": "markdown",
   "id": "32cb8cab-c18a-4dc4-b0ed-107af865e5f9",
   "metadata": {},
   "source": [
    "## Outcome and Features\n",
    "\n",
    "We need to create two inputs for machine learning models:\n",
    "* Outcome: A single column of data that the model will try to explain\n",
    "* Features: One or more columns of data that explain the outcome\n",
    "\n",
    "We'll experiment with different models today, but all require an outcome and set of features.\n",
    "\n",
    "### Outcome\n",
    "\n",
    "Outcome is relatively simple since it's a single column:"
   ]
  },
  {
   "cell_type": "code",
   "execution_count": 10,
   "id": "7814c9a4-bc9d-4489-90f6-8ad685dcc149",
   "metadata": {},
   "outputs": [
    {
     "data": {
      "text/plain": [
       "0        Missed\n",
       "1        Missed\n",
       "2          Paid\n",
       "3          Paid\n",
       "4          Paid\n",
       "          ...  \n",
       "29995      Paid\n",
       "29996      Paid\n",
       "29997    Missed\n",
       "29998    Missed\n",
       "29999    Missed\n",
       "Name: Payment, Length: 30000, dtype: object"
      ]
     },
     "execution_count": 10,
     "metadata": {},
     "output_type": "execute_result"
    }
   ],
   "source": [
    "outcome = df[\"Payment\"]\n",
    "outcome"
   ]
  },
  {
   "cell_type": "markdown",
   "id": "9a300b91-320b-4f19-a9f2-37f7e18e337d",
   "metadata": {},
   "source": [
    "### Features\n",
    "\n",
    "We'll handle 2 types of data differently -- numeric and factors (categorical variables).\n",
    "\n",
    "#### Numeric Features\n",
    "First, the data has numeric variables like `Limit_Bal` and `Age`:"
   ]
  },
  {
   "cell_type": "code",
   "execution_count": 11,
   "id": "c6ca4b1f-b05a-4e54-be9b-3442951f7acd",
   "metadata": {},
   "outputs": [
    {
     "data": {
      "text/html": [
       "<div>\n",
       "<style scoped>\n",
       "    .dataframe tbody tr th:only-of-type {\n",
       "        vertical-align: middle;\n",
       "    }\n",
       "\n",
       "    .dataframe tbody tr th {\n",
       "        vertical-align: top;\n",
       "    }\n",
       "\n",
       "    .dataframe thead th {\n",
       "        text-align: right;\n",
       "    }\n",
       "</style>\n",
       "<table border=\"1\" class=\"dataframe\">\n",
       "  <thead>\n",
       "    <tr style=\"text-align: right;\">\n",
       "      <th></th>\n",
       "      <th>Limit_Bal</th>\n",
       "      <th>Bill_Amt1</th>\n",
       "      <th>Pay_Amt1</th>\n",
       "      <th>Age</th>\n",
       "    </tr>\n",
       "  </thead>\n",
       "  <tbody>\n",
       "    <tr>\n",
       "      <th>0</th>\n",
       "      <td>20000</td>\n",
       "      <td>3913</td>\n",
       "      <td>0</td>\n",
       "      <td>24</td>\n",
       "    </tr>\n",
       "    <tr>\n",
       "      <th>1</th>\n",
       "      <td>120000</td>\n",
       "      <td>2682</td>\n",
       "      <td>0</td>\n",
       "      <td>26</td>\n",
       "    </tr>\n",
       "    <tr>\n",
       "      <th>2</th>\n",
       "      <td>90000</td>\n",
       "      <td>29239</td>\n",
       "      <td>1518</td>\n",
       "      <td>34</td>\n",
       "    </tr>\n",
       "    <tr>\n",
       "      <th>3</th>\n",
       "      <td>50000</td>\n",
       "      <td>46990</td>\n",
       "      <td>2000</td>\n",
       "      <td>37</td>\n",
       "    </tr>\n",
       "    <tr>\n",
       "      <th>4</th>\n",
       "      <td>50000</td>\n",
       "      <td>8617</td>\n",
       "      <td>2000</td>\n",
       "      <td>57</td>\n",
       "    </tr>\n",
       "    <tr>\n",
       "      <th>...</th>\n",
       "      <td>...</td>\n",
       "      <td>...</td>\n",
       "      <td>...</td>\n",
       "      <td>...</td>\n",
       "    </tr>\n",
       "    <tr>\n",
       "      <th>29995</th>\n",
       "      <td>220000</td>\n",
       "      <td>188948</td>\n",
       "      <td>8500</td>\n",
       "      <td>39</td>\n",
       "    </tr>\n",
       "    <tr>\n",
       "      <th>29996</th>\n",
       "      <td>150000</td>\n",
       "      <td>1683</td>\n",
       "      <td>1837</td>\n",
       "      <td>43</td>\n",
       "    </tr>\n",
       "    <tr>\n",
       "      <th>29997</th>\n",
       "      <td>30000</td>\n",
       "      <td>3565</td>\n",
       "      <td>0</td>\n",
       "      <td>37</td>\n",
       "    </tr>\n",
       "    <tr>\n",
       "      <th>29998</th>\n",
       "      <td>80000</td>\n",
       "      <td>-1645</td>\n",
       "      <td>85900</td>\n",
       "      <td>41</td>\n",
       "    </tr>\n",
       "    <tr>\n",
       "      <th>29999</th>\n",
       "      <td>50000</td>\n",
       "      <td>47929</td>\n",
       "      <td>2078</td>\n",
       "      <td>46</td>\n",
       "    </tr>\n",
       "  </tbody>\n",
       "</table>\n",
       "<p>30000 rows × 4 columns</p>\n",
       "</div>"
      ],
      "text/plain": [
       "       Limit_Bal  Bill_Amt1  Pay_Amt1  Age\n",
       "0          20000       3913         0   24\n",
       "1         120000       2682         0   26\n",
       "2          90000      29239      1518   34\n",
       "3          50000      46990      2000   37\n",
       "4          50000       8617      2000   57\n",
       "...          ...        ...       ...  ...\n",
       "29995     220000     188948      8500   39\n",
       "29996     150000       1683      1837   43\n",
       "29997      30000       3565         0   37\n",
       "29998      80000      -1645     85900   41\n",
       "29999      50000      47929      2078   46\n",
       "\n",
       "[30000 rows x 4 columns]"
      ]
     },
     "execution_count": 11,
     "metadata": {},
     "output_type": "execute_result"
    }
   ],
   "source": [
    "numericFeatures = df[[\"Limit_Bal\", \"Bill_Amt1\", \"Pay_Amt1\", \"Age\"]]\n",
    "numericFeatures"
   ]
  },
  {
   "cell_type": "markdown",
   "id": "163e0826-4bd7-4a8b-8310-dac207b97320",
   "metadata": {},
   "source": [
    "#### Categorical Features\n",
    "Second, the data has categorical columns.\n",
    "* Despite all the discussion about new data (image, audio, video, etc.), models only work with numbers. Data needs to be numeric\n",
    "* But we really, really, **really** want to use non-numeric data\n",
    "* Some examples:\n",
    "  - Colors? Red, green, blue\n",
    "  - Day of the week? Sunday, Monday, Tuesday, ..., Saturday\n",
    "  - School? Boston College, Notre Dame, Boston University\n",
    "  - ...and many others\n",
    "* What do we do?\n",
    "\n",
    "Some data, like `Marriage` is a set of discrete values:"
   ]
  },
  {
   "cell_type": "code",
   "execution_count": 12,
   "id": "90555b93-1956-4db9-a11c-0c286bf25a47",
   "metadata": {},
   "outputs": [
    {
     "data": {
      "text/plain": [
       "single     15964\n",
       "married    13659\n",
       "other        323\n",
       "unknown       54\n",
       "Name: Marriage, dtype: int64"
      ]
     },
     "execution_count": 12,
     "metadata": {},
     "output_type": "execute_result"
    }
   ],
   "source": [
    "df[\"Marriage\"].value_counts()"
   ]
  },
  {
   "cell_type": "markdown",
   "id": "a8e61dda-609a-4bc9-a90d-f360f52e6dab",
   "metadata": {},
   "source": [
    "`get_dummies` converts this data to multiple columns of true (1) and false (0) values:"
   ]
  },
  {
   "cell_type": "code",
   "execution_count": 13,
   "id": "4194ad6e-8b3b-42fa-805c-d09b6eb9470a",
   "metadata": {},
   "outputs": [
    {
     "data": {
      "text/html": [
       "<div>\n",
       "<style scoped>\n",
       "    .dataframe tbody tr th:only-of-type {\n",
       "        vertical-align: middle;\n",
       "    }\n",
       "\n",
       "    .dataframe tbody tr th {\n",
       "        vertical-align: top;\n",
       "    }\n",
       "\n",
       "    .dataframe thead th {\n",
       "        text-align: right;\n",
       "    }\n",
       "</style>\n",
       "<table border=\"1\" class=\"dataframe\">\n",
       "  <thead>\n",
       "    <tr style=\"text-align: right;\">\n",
       "      <th></th>\n",
       "      <th>Marriage_other</th>\n",
       "      <th>Marriage_single</th>\n",
       "      <th>Marriage_unknown</th>\n",
       "    </tr>\n",
       "  </thead>\n",
       "  <tbody>\n",
       "    <tr>\n",
       "      <th>0</th>\n",
       "      <td>0</td>\n",
       "      <td>0</td>\n",
       "      <td>0</td>\n",
       "    </tr>\n",
       "    <tr>\n",
       "      <th>1</th>\n",
       "      <td>0</td>\n",
       "      <td>1</td>\n",
       "      <td>0</td>\n",
       "    </tr>\n",
       "    <tr>\n",
       "      <th>2</th>\n",
       "      <td>0</td>\n",
       "      <td>1</td>\n",
       "      <td>0</td>\n",
       "    </tr>\n",
       "    <tr>\n",
       "      <th>3</th>\n",
       "      <td>0</td>\n",
       "      <td>0</td>\n",
       "      <td>0</td>\n",
       "    </tr>\n",
       "    <tr>\n",
       "      <th>4</th>\n",
       "      <td>0</td>\n",
       "      <td>0</td>\n",
       "      <td>0</td>\n",
       "    </tr>\n",
       "    <tr>\n",
       "      <th>...</th>\n",
       "      <td>...</td>\n",
       "      <td>...</td>\n",
       "      <td>...</td>\n",
       "    </tr>\n",
       "    <tr>\n",
       "      <th>29995</th>\n",
       "      <td>0</td>\n",
       "      <td>0</td>\n",
       "      <td>0</td>\n",
       "    </tr>\n",
       "    <tr>\n",
       "      <th>29996</th>\n",
       "      <td>0</td>\n",
       "      <td>1</td>\n",
       "      <td>0</td>\n",
       "    </tr>\n",
       "    <tr>\n",
       "      <th>29997</th>\n",
       "      <td>0</td>\n",
       "      <td>1</td>\n",
       "      <td>0</td>\n",
       "    </tr>\n",
       "    <tr>\n",
       "      <th>29998</th>\n",
       "      <td>0</td>\n",
       "      <td>0</td>\n",
       "      <td>0</td>\n",
       "    </tr>\n",
       "    <tr>\n",
       "      <th>29999</th>\n",
       "      <td>0</td>\n",
       "      <td>0</td>\n",
       "      <td>0</td>\n",
       "    </tr>\n",
       "  </tbody>\n",
       "</table>\n",
       "<p>30000 rows × 3 columns</p>\n",
       "</div>"
      ],
      "text/plain": [
       "       Marriage_other  Marriage_single  Marriage_unknown\n",
       "0                   0                0                 0\n",
       "1                   0                1                 0\n",
       "2                   0                1                 0\n",
       "3                   0                0                 0\n",
       "4                   0                0                 0\n",
       "...               ...              ...               ...\n",
       "29995               0                0                 0\n",
       "29996               0                1                 0\n",
       "29997               0                1                 0\n",
       "29998               0                0                 0\n",
       "29999               0                0                 0\n",
       "\n",
       "[30000 rows x 3 columns]"
      ]
     },
     "execution_count": 13,
     "metadata": {},
     "output_type": "execute_result"
    }
   ],
   "source": [
    "dummiesMarriage = pd.get_dummies(df[\"Marriage\"], prefix = \"Marriage\", drop_first = True)\n",
    "dummiesMarriage"
   ]
  },
  {
   "cell_type": "markdown",
   "id": "85392634-cb57-4c35-b1b8-bf7a77d6bd66",
   "metadata": {},
   "source": [
    "Now you try...create dummy variables for the `Card` and `Pay_0` variables:"
   ]
  },
  {
   "cell_type": "code",
   "execution_count": 14,
   "id": "dd5f41e9-5a8e-45e8-bda2-a817ff013609",
   "metadata": {},
   "outputs": [
    {
     "data": {
      "text/html": [
       "<div>\n",
       "<style scoped>\n",
       "    .dataframe tbody tr th:only-of-type {\n",
       "        vertical-align: middle;\n",
       "    }\n",
       "\n",
       "    .dataframe tbody tr th {\n",
       "        vertical-align: top;\n",
       "    }\n",
       "\n",
       "    .dataframe thead th {\n",
       "        text-align: right;\n",
       "    }\n",
       "</style>\n",
       "<table border=\"1\" class=\"dataframe\">\n",
       "  <thead>\n",
       "    <tr style=\"text-align: right;\">\n",
       "      <th></th>\n",
       "      <th>Card_Normal</th>\n",
       "    </tr>\n",
       "  </thead>\n",
       "  <tbody>\n",
       "    <tr>\n",
       "      <th>0</th>\n",
       "      <td>1</td>\n",
       "    </tr>\n",
       "    <tr>\n",
       "      <th>1</th>\n",
       "      <td>1</td>\n",
       "    </tr>\n",
       "    <tr>\n",
       "      <th>2</th>\n",
       "      <td>1</td>\n",
       "    </tr>\n",
       "    <tr>\n",
       "      <th>3</th>\n",
       "      <td>1</td>\n",
       "    </tr>\n",
       "    <tr>\n",
       "      <th>4</th>\n",
       "      <td>0</td>\n",
       "    </tr>\n",
       "    <tr>\n",
       "      <th>...</th>\n",
       "      <td>...</td>\n",
       "    </tr>\n",
       "    <tr>\n",
       "      <th>29995</th>\n",
       "      <td>0</td>\n",
       "    </tr>\n",
       "    <tr>\n",
       "      <th>29996</th>\n",
       "      <td>0</td>\n",
       "    </tr>\n",
       "    <tr>\n",
       "      <th>29997</th>\n",
       "      <td>0</td>\n",
       "    </tr>\n",
       "    <tr>\n",
       "      <th>29998</th>\n",
       "      <td>0</td>\n",
       "    </tr>\n",
       "    <tr>\n",
       "      <th>29999</th>\n",
       "      <td>0</td>\n",
       "    </tr>\n",
       "  </tbody>\n",
       "</table>\n",
       "<p>30000 rows × 1 columns</p>\n",
       "</div>"
      ],
      "text/plain": [
       "       Card_Normal\n",
       "0                1\n",
       "1                1\n",
       "2                1\n",
       "3                1\n",
       "4                0\n",
       "...            ...\n",
       "29995            0\n",
       "29996            0\n",
       "29997            0\n",
       "29998            0\n",
       "29999            0\n",
       "\n",
       "[30000 rows x 1 columns]"
      ]
     },
     "execution_count": 14,
     "metadata": {},
     "output_type": "execute_result"
    }
   ],
   "source": [
    "dummiesCard = pd.get_dummies(df[\"Card\"], prefix = \"Card\", drop_first = True)\n",
    "dummiesCard"
   ]
  },
  {
   "cell_type": "code",
   "execution_count": 15,
   "id": "709cfc4f-be28-4373-8728-6be276241416",
   "metadata": {},
   "outputs": [
    {
     "data": {
      "text/html": [
       "<div>\n",
       "<style scoped>\n",
       "    .dataframe tbody tr th:only-of-type {\n",
       "        vertical-align: middle;\n",
       "    }\n",
       "\n",
       "    .dataframe tbody tr th {\n",
       "        vertical-align: top;\n",
       "    }\n",
       "\n",
       "    .dataframe thead th {\n",
       "        text-align: right;\n",
       "    }\n",
       "</style>\n",
       "<table border=\"1\" class=\"dataframe\">\n",
       "  <thead>\n",
       "    <tr style=\"text-align: right;\">\n",
       "      <th></th>\n",
       "      <th>Pay_0_Delay1</th>\n",
       "      <th>Pay_0_Delay2</th>\n",
       "      <th>Pay_0_Delay3</th>\n",
       "      <th>Pay_0_Delay4</th>\n",
       "      <th>Pay_0_Delay5</th>\n",
       "      <th>Pay_0_Delay6</th>\n",
       "      <th>Pay_0_Delay7</th>\n",
       "      <th>Pay_0_Delay8+</th>\n",
       "      <th>Pay_0_ontime</th>\n",
       "      <th>Pay_0_unknown</th>\n",
       "    </tr>\n",
       "  </thead>\n",
       "  <tbody>\n",
       "    <tr>\n",
       "      <th>0</th>\n",
       "      <td>0</td>\n",
       "      <td>1</td>\n",
       "      <td>0</td>\n",
       "      <td>0</td>\n",
       "      <td>0</td>\n",
       "      <td>0</td>\n",
       "      <td>0</td>\n",
       "      <td>0</td>\n",
       "      <td>0</td>\n",
       "      <td>0</td>\n",
       "    </tr>\n",
       "    <tr>\n",
       "      <th>1</th>\n",
       "      <td>0</td>\n",
       "      <td>0</td>\n",
       "      <td>0</td>\n",
       "      <td>0</td>\n",
       "      <td>0</td>\n",
       "      <td>0</td>\n",
       "      <td>0</td>\n",
       "      <td>0</td>\n",
       "      <td>1</td>\n",
       "      <td>0</td>\n",
       "    </tr>\n",
       "    <tr>\n",
       "      <th>2</th>\n",
       "      <td>0</td>\n",
       "      <td>0</td>\n",
       "      <td>0</td>\n",
       "      <td>0</td>\n",
       "      <td>0</td>\n",
       "      <td>0</td>\n",
       "      <td>0</td>\n",
       "      <td>0</td>\n",
       "      <td>0</td>\n",
       "      <td>0</td>\n",
       "    </tr>\n",
       "    <tr>\n",
       "      <th>3</th>\n",
       "      <td>0</td>\n",
       "      <td>0</td>\n",
       "      <td>0</td>\n",
       "      <td>0</td>\n",
       "      <td>0</td>\n",
       "      <td>0</td>\n",
       "      <td>0</td>\n",
       "      <td>0</td>\n",
       "      <td>0</td>\n",
       "      <td>0</td>\n",
       "    </tr>\n",
       "    <tr>\n",
       "      <th>4</th>\n",
       "      <td>0</td>\n",
       "      <td>0</td>\n",
       "      <td>0</td>\n",
       "      <td>0</td>\n",
       "      <td>0</td>\n",
       "      <td>0</td>\n",
       "      <td>0</td>\n",
       "      <td>0</td>\n",
       "      <td>1</td>\n",
       "      <td>0</td>\n",
       "    </tr>\n",
       "    <tr>\n",
       "      <th>...</th>\n",
       "      <td>...</td>\n",
       "      <td>...</td>\n",
       "      <td>...</td>\n",
       "      <td>...</td>\n",
       "      <td>...</td>\n",
       "      <td>...</td>\n",
       "      <td>...</td>\n",
       "      <td>...</td>\n",
       "      <td>...</td>\n",
       "      <td>...</td>\n",
       "    </tr>\n",
       "    <tr>\n",
       "      <th>29995</th>\n",
       "      <td>0</td>\n",
       "      <td>0</td>\n",
       "      <td>0</td>\n",
       "      <td>0</td>\n",
       "      <td>0</td>\n",
       "      <td>0</td>\n",
       "      <td>0</td>\n",
       "      <td>0</td>\n",
       "      <td>0</td>\n",
       "      <td>0</td>\n",
       "    </tr>\n",
       "    <tr>\n",
       "      <th>29996</th>\n",
       "      <td>0</td>\n",
       "      <td>0</td>\n",
       "      <td>0</td>\n",
       "      <td>0</td>\n",
       "      <td>0</td>\n",
       "      <td>0</td>\n",
       "      <td>0</td>\n",
       "      <td>0</td>\n",
       "      <td>1</td>\n",
       "      <td>0</td>\n",
       "    </tr>\n",
       "    <tr>\n",
       "      <th>29997</th>\n",
       "      <td>0</td>\n",
       "      <td>0</td>\n",
       "      <td>0</td>\n",
       "      <td>1</td>\n",
       "      <td>0</td>\n",
       "      <td>0</td>\n",
       "      <td>0</td>\n",
       "      <td>0</td>\n",
       "      <td>0</td>\n",
       "      <td>0</td>\n",
       "    </tr>\n",
       "    <tr>\n",
       "      <th>29998</th>\n",
       "      <td>1</td>\n",
       "      <td>0</td>\n",
       "      <td>0</td>\n",
       "      <td>0</td>\n",
       "      <td>0</td>\n",
       "      <td>0</td>\n",
       "      <td>0</td>\n",
       "      <td>0</td>\n",
       "      <td>0</td>\n",
       "      <td>0</td>\n",
       "    </tr>\n",
       "    <tr>\n",
       "      <th>29999</th>\n",
       "      <td>0</td>\n",
       "      <td>0</td>\n",
       "      <td>0</td>\n",
       "      <td>0</td>\n",
       "      <td>0</td>\n",
       "      <td>0</td>\n",
       "      <td>0</td>\n",
       "      <td>0</td>\n",
       "      <td>0</td>\n",
       "      <td>0</td>\n",
       "    </tr>\n",
       "  </tbody>\n",
       "</table>\n",
       "<p>30000 rows × 10 columns</p>\n",
       "</div>"
      ],
      "text/plain": [
       "       Pay_0_Delay1  Pay_0_Delay2  Pay_0_Delay3  Pay_0_Delay4  Pay_0_Delay5  \\\n",
       "0                 0             1             0             0             0   \n",
       "1                 0             0             0             0             0   \n",
       "2                 0             0             0             0             0   \n",
       "3                 0             0             0             0             0   \n",
       "4                 0             0             0             0             0   \n",
       "...             ...           ...           ...           ...           ...   \n",
       "29995             0             0             0             0             0   \n",
       "29996             0             0             0             0             0   \n",
       "29997             0             0             0             1             0   \n",
       "29998             1             0             0             0             0   \n",
       "29999             0             0             0             0             0   \n",
       "\n",
       "       Pay_0_Delay6  Pay_0_Delay7  Pay_0_Delay8+  Pay_0_ontime  Pay_0_unknown  \n",
       "0                 0             0              0             0              0  \n",
       "1                 0             0              0             1              0  \n",
       "2                 0             0              0             0              0  \n",
       "3                 0             0              0             0              0  \n",
       "4                 0             0              0             1              0  \n",
       "...             ...           ...            ...           ...            ...  \n",
       "29995             0             0              0             0              0  \n",
       "29996             0             0              0             1              0  \n",
       "29997             0             0              0             0              0  \n",
       "29998             0             0              0             0              0  \n",
       "29999             0             0              0             0              0  \n",
       "\n",
       "[30000 rows x 10 columns]"
      ]
     },
     "execution_count": 15,
     "metadata": {},
     "output_type": "execute_result"
    }
   ],
   "source": [
    "dummiesPay_0 = pd.get_dummies(df[\"Pay_0\"], prefix = \"Pay_0\", drop_first = True)\n",
    "dummiesPay_0"
   ]
  },
  {
   "cell_type": "markdown",
   "id": "51f6256a-9316-4349-9b73-fd6bf7ed106a",
   "metadata": {},
   "source": [
    "Now we need to combine all our features into a single variable using the `concat` command:"
   ]
  },
  {
   "cell_type": "code",
   "execution_count": 16,
   "id": "fa886e97-a08c-4600-a464-458f55d5e438",
   "metadata": {},
   "outputs": [
    {
     "data": {
      "text/html": [
       "<div>\n",
       "<style scoped>\n",
       "    .dataframe tbody tr th:only-of-type {\n",
       "        vertical-align: middle;\n",
       "    }\n",
       "\n",
       "    .dataframe tbody tr th {\n",
       "        vertical-align: top;\n",
       "    }\n",
       "\n",
       "    .dataframe thead th {\n",
       "        text-align: right;\n",
       "    }\n",
       "</style>\n",
       "<table border=\"1\" class=\"dataframe\">\n",
       "  <thead>\n",
       "    <tr style=\"text-align: right;\">\n",
       "      <th></th>\n",
       "      <th>Limit_Bal</th>\n",
       "      <th>Bill_Amt1</th>\n",
       "      <th>Pay_Amt1</th>\n",
       "      <th>Age</th>\n",
       "      <th>Marriage_other</th>\n",
       "      <th>Marriage_single</th>\n",
       "      <th>Marriage_unknown</th>\n",
       "      <th>Pay_0_Delay1</th>\n",
       "      <th>Pay_0_Delay2</th>\n",
       "      <th>Pay_0_Delay3</th>\n",
       "      <th>Pay_0_Delay4</th>\n",
       "      <th>Pay_0_Delay5</th>\n",
       "      <th>Pay_0_Delay6</th>\n",
       "      <th>Pay_0_Delay7</th>\n",
       "      <th>Pay_0_Delay8+</th>\n",
       "      <th>Pay_0_ontime</th>\n",
       "      <th>Pay_0_unknown</th>\n",
       "      <th>Card_Normal</th>\n",
       "    </tr>\n",
       "  </thead>\n",
       "  <tbody>\n",
       "    <tr>\n",
       "      <th>0</th>\n",
       "      <td>20000</td>\n",
       "      <td>3913</td>\n",
       "      <td>0</td>\n",
       "      <td>24</td>\n",
       "      <td>0</td>\n",
       "      <td>0</td>\n",
       "      <td>0</td>\n",
       "      <td>0</td>\n",
       "      <td>1</td>\n",
       "      <td>0</td>\n",
       "      <td>0</td>\n",
       "      <td>0</td>\n",
       "      <td>0</td>\n",
       "      <td>0</td>\n",
       "      <td>0</td>\n",
       "      <td>0</td>\n",
       "      <td>0</td>\n",
       "      <td>1</td>\n",
       "    </tr>\n",
       "    <tr>\n",
       "      <th>1</th>\n",
       "      <td>120000</td>\n",
       "      <td>2682</td>\n",
       "      <td>0</td>\n",
       "      <td>26</td>\n",
       "      <td>0</td>\n",
       "      <td>1</td>\n",
       "      <td>0</td>\n",
       "      <td>0</td>\n",
       "      <td>0</td>\n",
       "      <td>0</td>\n",
       "      <td>0</td>\n",
       "      <td>0</td>\n",
       "      <td>0</td>\n",
       "      <td>0</td>\n",
       "      <td>0</td>\n",
       "      <td>1</td>\n",
       "      <td>0</td>\n",
       "      <td>1</td>\n",
       "    </tr>\n",
       "    <tr>\n",
       "      <th>2</th>\n",
       "      <td>90000</td>\n",
       "      <td>29239</td>\n",
       "      <td>1518</td>\n",
       "      <td>34</td>\n",
       "      <td>0</td>\n",
       "      <td>1</td>\n",
       "      <td>0</td>\n",
       "      <td>0</td>\n",
       "      <td>0</td>\n",
       "      <td>0</td>\n",
       "      <td>0</td>\n",
       "      <td>0</td>\n",
       "      <td>0</td>\n",
       "      <td>0</td>\n",
       "      <td>0</td>\n",
       "      <td>0</td>\n",
       "      <td>0</td>\n",
       "      <td>1</td>\n",
       "    </tr>\n",
       "    <tr>\n",
       "      <th>3</th>\n",
       "      <td>50000</td>\n",
       "      <td>46990</td>\n",
       "      <td>2000</td>\n",
       "      <td>37</td>\n",
       "      <td>0</td>\n",
       "      <td>0</td>\n",
       "      <td>0</td>\n",
       "      <td>0</td>\n",
       "      <td>0</td>\n",
       "      <td>0</td>\n",
       "      <td>0</td>\n",
       "      <td>0</td>\n",
       "      <td>0</td>\n",
       "      <td>0</td>\n",
       "      <td>0</td>\n",
       "      <td>0</td>\n",
       "      <td>0</td>\n",
       "      <td>1</td>\n",
       "    </tr>\n",
       "    <tr>\n",
       "      <th>4</th>\n",
       "      <td>50000</td>\n",
       "      <td>8617</td>\n",
       "      <td>2000</td>\n",
       "      <td>57</td>\n",
       "      <td>0</td>\n",
       "      <td>0</td>\n",
       "      <td>0</td>\n",
       "      <td>0</td>\n",
       "      <td>0</td>\n",
       "      <td>0</td>\n",
       "      <td>0</td>\n",
       "      <td>0</td>\n",
       "      <td>0</td>\n",
       "      <td>0</td>\n",
       "      <td>0</td>\n",
       "      <td>1</td>\n",
       "      <td>0</td>\n",
       "      <td>0</td>\n",
       "    </tr>\n",
       "    <tr>\n",
       "      <th>...</th>\n",
       "      <td>...</td>\n",
       "      <td>...</td>\n",
       "      <td>...</td>\n",
       "      <td>...</td>\n",
       "      <td>...</td>\n",
       "      <td>...</td>\n",
       "      <td>...</td>\n",
       "      <td>...</td>\n",
       "      <td>...</td>\n",
       "      <td>...</td>\n",
       "      <td>...</td>\n",
       "      <td>...</td>\n",
       "      <td>...</td>\n",
       "      <td>...</td>\n",
       "      <td>...</td>\n",
       "      <td>...</td>\n",
       "      <td>...</td>\n",
       "      <td>...</td>\n",
       "    </tr>\n",
       "    <tr>\n",
       "      <th>29995</th>\n",
       "      <td>220000</td>\n",
       "      <td>188948</td>\n",
       "      <td>8500</td>\n",
       "      <td>39</td>\n",
       "      <td>0</td>\n",
       "      <td>0</td>\n",
       "      <td>0</td>\n",
       "      <td>0</td>\n",
       "      <td>0</td>\n",
       "      <td>0</td>\n",
       "      <td>0</td>\n",
       "      <td>0</td>\n",
       "      <td>0</td>\n",
       "      <td>0</td>\n",
       "      <td>0</td>\n",
       "      <td>0</td>\n",
       "      <td>0</td>\n",
       "      <td>0</td>\n",
       "    </tr>\n",
       "    <tr>\n",
       "      <th>29996</th>\n",
       "      <td>150000</td>\n",
       "      <td>1683</td>\n",
       "      <td>1837</td>\n",
       "      <td>43</td>\n",
       "      <td>0</td>\n",
       "      <td>1</td>\n",
       "      <td>0</td>\n",
       "      <td>0</td>\n",
       "      <td>0</td>\n",
       "      <td>0</td>\n",
       "      <td>0</td>\n",
       "      <td>0</td>\n",
       "      <td>0</td>\n",
       "      <td>0</td>\n",
       "      <td>0</td>\n",
       "      <td>1</td>\n",
       "      <td>0</td>\n",
       "      <td>0</td>\n",
       "    </tr>\n",
       "    <tr>\n",
       "      <th>29997</th>\n",
       "      <td>30000</td>\n",
       "      <td>3565</td>\n",
       "      <td>0</td>\n",
       "      <td>37</td>\n",
       "      <td>0</td>\n",
       "      <td>1</td>\n",
       "      <td>0</td>\n",
       "      <td>0</td>\n",
       "      <td>0</td>\n",
       "      <td>0</td>\n",
       "      <td>1</td>\n",
       "      <td>0</td>\n",
       "      <td>0</td>\n",
       "      <td>0</td>\n",
       "      <td>0</td>\n",
       "      <td>0</td>\n",
       "      <td>0</td>\n",
       "      <td>0</td>\n",
       "    </tr>\n",
       "    <tr>\n",
       "      <th>29998</th>\n",
       "      <td>80000</td>\n",
       "      <td>-1645</td>\n",
       "      <td>85900</td>\n",
       "      <td>41</td>\n",
       "      <td>0</td>\n",
       "      <td>0</td>\n",
       "      <td>0</td>\n",
       "      <td>1</td>\n",
       "      <td>0</td>\n",
       "      <td>0</td>\n",
       "      <td>0</td>\n",
       "      <td>0</td>\n",
       "      <td>0</td>\n",
       "      <td>0</td>\n",
       "      <td>0</td>\n",
       "      <td>0</td>\n",
       "      <td>0</td>\n",
       "      <td>0</td>\n",
       "    </tr>\n",
       "    <tr>\n",
       "      <th>29999</th>\n",
       "      <td>50000</td>\n",
       "      <td>47929</td>\n",
       "      <td>2078</td>\n",
       "      <td>46</td>\n",
       "      <td>0</td>\n",
       "      <td>0</td>\n",
       "      <td>0</td>\n",
       "      <td>0</td>\n",
       "      <td>0</td>\n",
       "      <td>0</td>\n",
       "      <td>0</td>\n",
       "      <td>0</td>\n",
       "      <td>0</td>\n",
       "      <td>0</td>\n",
       "      <td>0</td>\n",
       "      <td>0</td>\n",
       "      <td>0</td>\n",
       "      <td>0</td>\n",
       "    </tr>\n",
       "  </tbody>\n",
       "</table>\n",
       "<p>30000 rows × 18 columns</p>\n",
       "</div>"
      ],
      "text/plain": [
       "       Limit_Bal  Bill_Amt1  Pay_Amt1  Age  Marriage_other  Marriage_single  \\\n",
       "0          20000       3913         0   24               0                0   \n",
       "1         120000       2682         0   26               0                1   \n",
       "2          90000      29239      1518   34               0                1   \n",
       "3          50000      46990      2000   37               0                0   \n",
       "4          50000       8617      2000   57               0                0   \n",
       "...          ...        ...       ...  ...             ...              ...   \n",
       "29995     220000     188948      8500   39               0                0   \n",
       "29996     150000       1683      1837   43               0                1   \n",
       "29997      30000       3565         0   37               0                1   \n",
       "29998      80000      -1645     85900   41               0                0   \n",
       "29999      50000      47929      2078   46               0                0   \n",
       "\n",
       "       Marriage_unknown  Pay_0_Delay1  Pay_0_Delay2  Pay_0_Delay3  \\\n",
       "0                     0             0             1             0   \n",
       "1                     0             0             0             0   \n",
       "2                     0             0             0             0   \n",
       "3                     0             0             0             0   \n",
       "4                     0             0             0             0   \n",
       "...                 ...           ...           ...           ...   \n",
       "29995                 0             0             0             0   \n",
       "29996                 0             0             0             0   \n",
       "29997                 0             0             0             0   \n",
       "29998                 0             1             0             0   \n",
       "29999                 0             0             0             0   \n",
       "\n",
       "       Pay_0_Delay4  Pay_0_Delay5  Pay_0_Delay6  Pay_0_Delay7  Pay_0_Delay8+  \\\n",
       "0                 0             0             0             0              0   \n",
       "1                 0             0             0             0              0   \n",
       "2                 0             0             0             0              0   \n",
       "3                 0             0             0             0              0   \n",
       "4                 0             0             0             0              0   \n",
       "...             ...           ...           ...           ...            ...   \n",
       "29995             0             0             0             0              0   \n",
       "29996             0             0             0             0              0   \n",
       "29997             1             0             0             0              0   \n",
       "29998             0             0             0             0              0   \n",
       "29999             0             0             0             0              0   \n",
       "\n",
       "       Pay_0_ontime  Pay_0_unknown  Card_Normal  \n",
       "0                 0              0            1  \n",
       "1                 1              0            1  \n",
       "2                 0              0            1  \n",
       "3                 0              0            1  \n",
       "4                 1              0            0  \n",
       "...             ...            ...          ...  \n",
       "29995             0              0            0  \n",
       "29996             1              0            0  \n",
       "29997             0              0            0  \n",
       "29998             0              0            0  \n",
       "29999             0              0            0  \n",
       "\n",
       "[30000 rows x 18 columns]"
      ]
     },
     "execution_count": 16,
     "metadata": {},
     "output_type": "execute_result"
    }
   ],
   "source": [
    "features = pd.concat([numericFeatures, dummiesMarriage, dummiesPay_0, dummiesCard], axis = 1)\n",
    "features"
   ]
  },
  {
   "cell_type": "markdown",
   "id": "05dbf1d9-b821-4401-b941-163aebaf5eb7",
   "metadata": {},
   "source": [
    "*The `axis = 1` parameter tells the `concat` function to combine by columns instead of by rows.*\n",
    "\n",
    "Now, we have 2 variables:\n",
    "* `outcome` contains the single column of data that we will try to explain\n",
    "* `features` contains multiple columns of data that we believe explains the `outcome` variable"
   ]
  },
  {
   "cell_type": "markdown",
   "id": "b6fcb0fa-010c-4833-9c5e-9170e317961a",
   "metadata": {},
   "source": [
    "## Partitioning the Data\n",
    "\n",
    "When we have sufficient data, we want to use only part of the data to train the model. By keeping part of the data as test data, we can better evaluate how well the model works.\n",
    "\n",
    "The `sklearn.model_selection.train_test_split` command randomly splits the data into subsets. It is an unusual function that returns four values. The `test_size` parameter indicates the portion to save for testing."
   ]
  },
  {
   "cell_type": "code",
   "execution_count": 17,
   "id": "46cea9ba-6f8a-4a74-8e2d-2c8d3409a958",
   "metadata": {},
   "outputs": [
    {
     "data": {
      "text/plain": [
       "(20100, 18)"
      ]
     },
     "execution_count": 17,
     "metadata": {},
     "output_type": "execute_result"
    },
    {
     "data": {
      "text/plain": [
       "(9900, 18)"
      ]
     },
     "execution_count": 17,
     "metadata": {},
     "output_type": "execute_result"
    },
    {
     "data": {
      "text/plain": [
       "(20100,)"
      ]
     },
     "execution_count": 17,
     "metadata": {},
     "output_type": "execute_result"
    },
    {
     "data": {
      "text/plain": [
       "(9900,)"
      ]
     },
     "execution_count": 17,
     "metadata": {},
     "output_type": "execute_result"
    }
   ],
   "source": [
    "from sklearn.model_selection import train_test_split\n",
    "featuresTrain, featuresTest, outcomeTrain, outcomeTest = train_test_split(features, outcome, test_size = 0.33, random_state = 42)\n",
    "featuresTrain.shape\n",
    "featuresTest.shape\n",
    "outcomeTrain.shape\n",
    "outcomeTest.shape"
   ]
  },
  {
   "attachments": {
    "11f8e071-8b01-478d-8ee5-cfe706cd1f9e.png": {
     "image/png": "[encoded data removed]"
    }
   },
   "cell_type": "markdown",
   "id": "4c0a3816-818d-4699-9830-82c1c1500122",
   "metadata": {},
   "source": [
    "## Building a Decision Tree\n",
    "\n",
    "![image.png](attachment:11f8e071-8b01-478d-8ee5-cfe706cd1f9e.png)\n",
    "\n",
    "* A ﬂowchart-like structure\n",
    "* Each internal node represents a test on an attribute\n",
    "* Each branch represents the outcome of the test\n",
    "* Each leaf node represents a class label\n",
    "* The paths from root to leaf represent classiﬁcation rules.\n",
    "\n",
    "Pros and cons?\n",
    "* Simple\n",
    "* White-box\n",
    "* Sensitive to data ('high variance')\n",
    "* May require many levels\n",
    "* Generally low accuracy\n",
    "\n",
    "Let's build the model. There are generally 4 steps:\n",
    "1. Set-up the model:"
   ]
  },
  {
   "cell_type": "code",
   "execution_count": 18,
   "id": "41e95b33-2550-4afb-b619-daf3df34fe7a",
   "metadata": {},
   "outputs": [],
   "source": [
    "import sklearn.tree\n",
    "modelTree = sklearn.tree.DecisionTreeClassifier(random_state = 42)"
   ]
  },
  {
   "cell_type": "markdown",
   "id": "24eece55-07f9-40ef-8f01-39079761abeb",
   "metadata": {},
   "source": [
    "2. Fit the tree using the training data:"
   ]
  },
  {
   "cell_type": "code",
   "execution_count": 19,
   "id": "3bb8ab3b-137e-4e05-943f-817860dc9bb6",
   "metadata": {},
   "outputs": [
    {
     "data": {
      "text/plain": [
       "[Text(0.5, 0.875, 'Pay_0_Delay2 <= 0.5\\ngini = 0.346\\nsamples = 20100\\nvalue = [4478, 15622]\\nclass = Paid'),\n",
       " Text(0.25, 0.625, 'Pay_Amt1 <= 21.0\\ngini = 0.292\\nsamples = 18308\\nvalue = [3245, 15063]\\nclass = Paid'),\n",
       " Text(0.125, 0.375, 'Pay_0_Delay3 <= 0.5\\ngini = 0.443\\nsamples = 3258\\nvalue = [1079, 2179]\\nclass = Paid'),\n",
       " Text(0.0625, 0.125, '\\n  (...)  \\n'),\n",
       " Text(0.1875, 0.125, '\\n  (...)  \\n'),\n",
       " Text(0.375, 0.375, 'Limit_Bal <= 75000.0\\ngini = 0.246\\nsamples = 15050\\nvalue = [2166, 12884]\\nclass = Paid'),\n",
       " Text(0.3125, 0.125, '\\n  (...)  \\n'),\n",
       " Text(0.4375, 0.125, '\\n  (...)  \\n'),\n",
       " Text(0.75, 0.625, 'Bill_Amt1 <= 2211.5\\ngini = 0.429\\nsamples = 1792\\nvalue = [1233, 559]\\nclass = Missed'),\n",
       " Text(0.625, 0.375, 'Limit_Bal <= 25000.0\\ngini = 0.498\\nsamples = 143\\nvalue = [67, 76]\\nclass = Paid'),\n",
       " Text(0.5625, 0.125, '\\n  (...)  \\n'),\n",
       " Text(0.6875, 0.125, '\\n  (...)  \\n'),\n",
       " Text(0.875, 0.375, 'Bill_Amt1 <= 97969.0\\ngini = 0.414\\nsamples = 1649\\nvalue = [1166, 483]\\nclass = Missed'),\n",
       " Text(0.8125, 0.125, '\\n  (...)  \\n'),\n",
       " Text(0.9375, 0.125, '\\n  (...)  \\n')]"
      ]
     },
     "execution_count": 19,
     "metadata": {},
     "output_type": "execute_result"
    },
    {
     "data": {
      "image/png": "[encoded data removed]",
      "text/plain": [
       "<Figure size 640x480 with 1 Axes>"
      ]
     },
     "metadata": {},
     "output_type": "display_data"
    }
   ],
   "source": [
    "resultTree = modelTree.fit(featuresTrain, outcomeTrain)\n",
    "sklearn.tree.plot_tree(resultTree, feature_names = list(features), filled = True,\\\n",
    "                       class_names = modelTree.classes_, max_depth = 2)"
   ]
  },
  {
   "cell_type": "markdown",
   "id": "fd1ba23f-a983-4f96-b4db-aabcbbc1976a",
   "metadata": {},
   "source": [
    "3. Use the fitted model to predict outcomes:"
   ]
  },
  {
   "cell_type": "code",
   "execution_count": 20,
   "id": "88051d5f-acc9-44cf-9e86-b922b0cd5ee2",
   "metadata": {},
   "outputs": [
    {
     "data": {
      "text/plain": [
       "array(['Missed', 'Paid', 'Missed', ..., 'Paid', 'Missed', 'Missed'],\n",
       "      dtype=object)"
      ]
     },
     "execution_count": 20,
     "metadata": {},
     "output_type": "execute_result"
    }
   ],
   "source": [
    "predTreeTrain = modelTree.predict(featuresTrain)\n",
    "predTreeTrain"
   ]
  },
  {
   "cell_type": "markdown",
   "id": "140abd3e-0bb1-48e7-a4cf-3243d1870f4b",
   "metadata": {},
   "source": [
    "4. Assess the fit:"
   ]
  },
  {
   "cell_type": "code",
   "execution_count": 21,
   "id": "c76d7ece-d783-491b-aadd-a4d03616c003",
   "metadata": {},
   "outputs": [
    {
     "ename": "ValueError",
     "evalue": "could not convert string to float: 'Missed'",
     "output_type": "error",
     "traceback": [
      "\u001b[0;31m---------------------------------------------------------------------------\u001b[0m",
      "\u001b[0;31mValueError\u001b[0m                                Traceback (most recent call last)",
      "Cell \u001b[0;32mIn[21], line 1\u001b[0m\n\u001b[0;32m----> 1\u001b[0m \u001b[43msklearn\u001b[49m\u001b[38;5;241;43m.\u001b[39;49m\u001b[43mmetrics\u001b[49m\u001b[38;5;241;43m.\u001b[39;49m\u001b[43mr2_score\u001b[49m\u001b[43m(\u001b[49m\u001b[43moutcomeTrain\u001b[49m\u001b[43m,\u001b[49m\u001b[43m \u001b[49m\u001b[43mfeaturesTrain\u001b[49m\u001b[43m)\u001b[49m \u001b[38;5;66;03m# this is wrong\u001b[39;00m\n",
      "File \u001b[0;32m/opt/conda/lib/python3.10/site-packages/sklearn/metrics/_regression.py:911\u001b[0m, in \u001b[0;36mr2_score\u001b[0;34m(y_true, y_pred, sample_weight, multioutput, force_finite)\u001b[0m\n\u001b[1;32m    784\u001b[0m \u001b[38;5;28;01mdef\u001b[39;00m \u001b[38;5;21mr2_score\u001b[39m(\n\u001b[1;32m    785\u001b[0m     y_true,\n\u001b[1;32m    786\u001b[0m     y_pred,\n\u001b[0;32m   (...)\u001b[0m\n\u001b[1;32m    790\u001b[0m     force_finite\u001b[38;5;241m=\u001b[39m\u001b[38;5;28;01mTrue\u001b[39;00m,\n\u001b[1;32m    791\u001b[0m ):\n\u001b[1;32m    792\u001b[0m \u001b[38;5;250m    \u001b[39m\u001b[38;5;124;03m\"\"\":math:`R^2` (coefficient of determination) regression score function.\u001b[39;00m\n\u001b[1;32m    793\u001b[0m \n\u001b[1;32m    794\u001b[0m \u001b[38;5;124;03m    Best possible score is 1.0 and it can be negative (because the\u001b[39;00m\n\u001b[0;32m   (...)\u001b[0m\n\u001b[1;32m    909\u001b[0m \u001b[38;5;124;03m    -inf\u001b[39;00m\n\u001b[1;32m    910\u001b[0m \u001b[38;5;124;03m    \"\"\"\u001b[39;00m\n\u001b[0;32m--> 911\u001b[0m     y_type, y_true, y_pred, multioutput \u001b[38;5;241m=\u001b[39m \u001b[43m_check_reg_targets\u001b[49m\u001b[43m(\u001b[49m\n\u001b[1;32m    912\u001b[0m \u001b[43m        \u001b[49m\u001b[43my_true\u001b[49m\u001b[43m,\u001b[49m\u001b[43m \u001b[49m\u001b[43my_pred\u001b[49m\u001b[43m,\u001b[49m\u001b[43m \u001b[49m\u001b[43mmultioutput\u001b[49m\n\u001b[1;32m    913\u001b[0m \u001b[43m    \u001b[49m\u001b[43m)\u001b[49m\n\u001b[1;32m    914\u001b[0m     check_consistent_length(y_true, y_pred, sample_weight)\n\u001b[1;32m    916\u001b[0m     \u001b[38;5;28;01mif\u001b[39;00m _num_samples(y_pred) \u001b[38;5;241m<\u001b[39m \u001b[38;5;241m2\u001b[39m:\n",
      "File \u001b[0;32m/opt/conda/lib/python3.10/site-packages/sklearn/metrics/_regression.py:101\u001b[0m, in \u001b[0;36m_check_reg_targets\u001b[0;34m(y_true, y_pred, multioutput, dtype)\u001b[0m\n\u001b[1;32m     67\u001b[0m \u001b[38;5;250m\u001b[39m\u001b[38;5;124;03m\"\"\"Check that y_true and y_pred belong to the same regression task.\u001b[39;00m\n\u001b[1;32m     68\u001b[0m \n\u001b[1;32m     69\u001b[0m \u001b[38;5;124;03mParameters\u001b[39;00m\n\u001b[0;32m   (...)\u001b[0m\n\u001b[1;32m     98\u001b[0m \u001b[38;5;124;03m    correct keyword.\u001b[39;00m\n\u001b[1;32m     99\u001b[0m \u001b[38;5;124;03m\"\"\"\u001b[39;00m\n\u001b[1;32m    100\u001b[0m check_consistent_length(y_true, y_pred)\n\u001b[0;32m--> 101\u001b[0m y_true \u001b[38;5;241m=\u001b[39m \u001b[43mcheck_array\u001b[49m\u001b[43m(\u001b[49m\u001b[43my_true\u001b[49m\u001b[43m,\u001b[49m\u001b[43m \u001b[49m\u001b[43mensure_2d\u001b[49m\u001b[38;5;241;43m=\u001b[39;49m\u001b[38;5;28;43;01mFalse\u001b[39;49;00m\u001b[43m,\u001b[49m\u001b[43m \u001b[49m\u001b[43mdtype\u001b[49m\u001b[38;5;241;43m=\u001b[39;49m\u001b[43mdtype\u001b[49m\u001b[43m)\u001b[49m\n\u001b[1;32m    102\u001b[0m y_pred \u001b[38;5;241m=\u001b[39m check_array(y_pred, ensure_2d\u001b[38;5;241m=\u001b[39m\u001b[38;5;28;01mFalse\u001b[39;00m, dtype\u001b[38;5;241m=\u001b[39mdtype)\n\u001b[1;32m    104\u001b[0m \u001b[38;5;28;01mif\u001b[39;00m y_true\u001b[38;5;241m.\u001b[39mndim \u001b[38;5;241m==\u001b[39m \u001b[38;5;241m1\u001b[39m:\n",
      "File \u001b[0;32m/opt/conda/lib/python3.10/site-packages/sklearn/utils/validation.py:877\u001b[0m, in \u001b[0;36mcheck_array\u001b[0;34m(array, accept_sparse, accept_large_sparse, dtype, order, copy, force_all_finite, ensure_2d, allow_nd, ensure_min_samples, ensure_min_features, estimator, input_name)\u001b[0m\n\u001b[1;32m    875\u001b[0m         array \u001b[38;5;241m=\u001b[39m xp\u001b[38;5;241m.\u001b[39mastype(array, dtype, copy\u001b[38;5;241m=\u001b[39m\u001b[38;5;28;01mFalse\u001b[39;00m)\n\u001b[1;32m    876\u001b[0m     \u001b[38;5;28;01melse\u001b[39;00m:\n\u001b[0;32m--> 877\u001b[0m         array \u001b[38;5;241m=\u001b[39m \u001b[43m_asarray_with_order\u001b[49m\u001b[43m(\u001b[49m\u001b[43marray\u001b[49m\u001b[43m,\u001b[49m\u001b[43m \u001b[49m\u001b[43morder\u001b[49m\u001b[38;5;241;43m=\u001b[39;49m\u001b[43morder\u001b[49m\u001b[43m,\u001b[49m\u001b[43m \u001b[49m\u001b[43mdtype\u001b[49m\u001b[38;5;241;43m=\u001b[39;49m\u001b[43mdtype\u001b[49m\u001b[43m,\u001b[49m\u001b[43m \u001b[49m\u001b[43mxp\u001b[49m\u001b[38;5;241;43m=\u001b[39;49m\u001b[43mxp\u001b[49m\u001b[43m)\u001b[49m\n\u001b[1;32m    878\u001b[0m \u001b[38;5;28;01mexcept\u001b[39;00m ComplexWarning \u001b[38;5;28;01mas\u001b[39;00m complex_warning:\n\u001b[1;32m    879\u001b[0m     \u001b[38;5;28;01mraise\u001b[39;00m \u001b[38;5;167;01mValueError\u001b[39;00m(\n\u001b[1;32m    880\u001b[0m         \u001b[38;5;124m\"\u001b[39m\u001b[38;5;124mComplex data not supported\u001b[39m\u001b[38;5;130;01m\\n\u001b[39;00m\u001b[38;5;132;01m{}\u001b[39;00m\u001b[38;5;130;01m\\n\u001b[39;00m\u001b[38;5;124m\"\u001b[39m\u001b[38;5;241m.\u001b[39mformat(array)\n\u001b[1;32m    881\u001b[0m     ) \u001b[38;5;28;01mfrom\u001b[39;00m \u001b[38;5;21;01mcomplex_warning\u001b[39;00m\n",
      "File \u001b[0;32m/opt/conda/lib/python3.10/site-packages/sklearn/utils/_array_api.py:185\u001b[0m, in \u001b[0;36m_asarray_with_order\u001b[0;34m(array, dtype, order, copy, xp)\u001b[0m\n\u001b[1;32m    182\u001b[0m     xp, _ \u001b[38;5;241m=\u001b[39m get_namespace(array)\n\u001b[1;32m    183\u001b[0m \u001b[38;5;28;01mif\u001b[39;00m xp\u001b[38;5;241m.\u001b[39m\u001b[38;5;18m__name__\u001b[39m \u001b[38;5;129;01min\u001b[39;00m {\u001b[38;5;124m\"\u001b[39m\u001b[38;5;124mnumpy\u001b[39m\u001b[38;5;124m\"\u001b[39m, \u001b[38;5;124m\"\u001b[39m\u001b[38;5;124mnumpy.array_api\u001b[39m\u001b[38;5;124m\"\u001b[39m}:\n\u001b[1;32m    184\u001b[0m     \u001b[38;5;66;03m# Use NumPy API to support order\u001b[39;00m\n\u001b[0;32m--> 185\u001b[0m     array \u001b[38;5;241m=\u001b[39m \u001b[43mnumpy\u001b[49m\u001b[38;5;241;43m.\u001b[39;49m\u001b[43masarray\u001b[49m\u001b[43m(\u001b[49m\u001b[43marray\u001b[49m\u001b[43m,\u001b[49m\u001b[43m \u001b[49m\u001b[43morder\u001b[49m\u001b[38;5;241;43m=\u001b[39;49m\u001b[43morder\u001b[49m\u001b[43m,\u001b[49m\u001b[43m \u001b[49m\u001b[43mdtype\u001b[49m\u001b[38;5;241;43m=\u001b[39;49m\u001b[43mdtype\u001b[49m\u001b[43m)\u001b[49m\n\u001b[1;32m    186\u001b[0m     \u001b[38;5;28;01mreturn\u001b[39;00m xp\u001b[38;5;241m.\u001b[39masarray(array, copy\u001b[38;5;241m=\u001b[39mcopy)\n\u001b[1;32m    187\u001b[0m \u001b[38;5;28;01melse\u001b[39;00m:\n",
      "File \u001b[0;32m/opt/conda/lib/python3.10/site-packages/pandas/core/series.py:893\u001b[0m, in \u001b[0;36mSeries.__array__\u001b[0;34m(self, dtype)\u001b[0m\n\u001b[1;32m    846\u001b[0m \u001b[38;5;28;01mdef\u001b[39;00m \u001b[38;5;21m__array__\u001b[39m(\u001b[38;5;28mself\u001b[39m, dtype: npt\u001b[38;5;241m.\u001b[39mDTypeLike \u001b[38;5;241m|\u001b[39m \u001b[38;5;28;01mNone\u001b[39;00m \u001b[38;5;241m=\u001b[39m \u001b[38;5;28;01mNone\u001b[39;00m) \u001b[38;5;241m-\u001b[39m\u001b[38;5;241m>\u001b[39m np\u001b[38;5;241m.\u001b[39mndarray:\n\u001b[1;32m    847\u001b[0m \u001b[38;5;250m    \u001b[39m\u001b[38;5;124;03m\"\"\"\u001b[39;00m\n\u001b[1;32m    848\u001b[0m \u001b[38;5;124;03m    Return the values as a NumPy array.\u001b[39;00m\n\u001b[1;32m    849\u001b[0m \n\u001b[0;32m   (...)\u001b[0m\n\u001b[1;32m    891\u001b[0m \u001b[38;5;124;03m          dtype='datetime64[ns]')\u001b[39;00m\n\u001b[1;32m    892\u001b[0m \u001b[38;5;124;03m    \"\"\"\u001b[39;00m\n\u001b[0;32m--> 893\u001b[0m     \u001b[38;5;28;01mreturn\u001b[39;00m \u001b[43mnp\u001b[49m\u001b[38;5;241;43m.\u001b[39;49m\u001b[43masarray\u001b[49m\u001b[43m(\u001b[49m\u001b[38;5;28;43mself\u001b[39;49m\u001b[38;5;241;43m.\u001b[39;49m\u001b[43m_values\u001b[49m\u001b[43m,\u001b[49m\u001b[43m \u001b[49m\u001b[43mdtype\u001b[49m\u001b[43m)\u001b[49m\n",
      "\u001b[0;31mValueError\u001b[0m: could not convert string to float: 'Missed'"
     ]
    }
   ],
   "source": [
    "sklearn.metrics.r2_score(outcomeTrain, featuresTrain) # this is wrong"
   ]
  },
  {
   "cell_type": "markdown",
   "id": "f7a0c3d2-9b9a-4a4c-a70c-63164b370fd5",
   "metadata": {},
   "source": [
    "What happened?\n",
    "\n",
    "Metrics like $R^2$, mean squared error, mean absolute error, etc., make sense for regression, but not classification.\n",
    "\n",
    "How can we tell if a model is good or bad?\n",
    "* Depends on the reference\n",
    "  - \"Better or worse\" more than \"good or bad\"\n",
    "* Depends on the dependent variable\n",
    "* Depends on the kind of model\n",
    "* Depends on the goal\n",
    "\n",
    "What outcomes are we trying to predict?"
   ]
  },
  {
   "cell_type": "code",
   "execution_count": 22,
   "id": "de740562-23d0-4d3b-87b5-fd4614659da4",
   "metadata": {},
   "outputs": [
    {
     "data": {
      "text/plain": [
       "Paid      15622\n",
       "Missed     4478\n",
       "Name: Payment, dtype: int64"
      ]
     },
     "execution_count": 22,
     "metadata": {},
     "output_type": "execute_result"
    }
   ],
   "source": [
    "pd.value_counts(outcomeTrain)"
   ]
  },
  {
   "cell_type": "markdown",
   "id": "8528baa2-65fa-41ce-a5de-5147584a404f",
   "metadata": {},
   "source": [
    "What did the model predict?"
   ]
  },
  {
   "cell_type": "code",
   "execution_count": 23,
   "id": "5660b588-154f-439b-8403-604d74c2bdc7",
   "metadata": {},
   "outputs": [
    {
     "data": {
      "text/plain": [
       "Paid      15597\n",
       "Missed     4503\n",
       "dtype: int64"
      ]
     },
     "execution_count": 23,
     "metadata": {},
     "output_type": "execute_result"
    }
   ],
   "source": [
    "pd.value_counts(predTreeTrain)"
   ]
  },
  {
   "cell_type": "markdown",
   "id": "5e2afd18-7f64-481b-af13-a57f9daba880",
   "metadata": {},
   "source": [
    "So, we know the prediction isn't perfect. But what did it miss? How imperfect?"
   ]
  },
  {
   "cell_type": "markdown",
   "id": "06f36309-9a28-4146-a915-99eef291edc6",
   "metadata": {},
   "source": [
    "### Confusion Matrix\n",
    "\n",
    "Check the confusion matrix to assess the model's goodness of fit:"
   ]
  },
  {
   "cell_type": "code",
   "execution_count": 24,
   "id": "4a8c52bd-0992-48ac-b518-f2fd7cb51685",
   "metadata": {},
   "outputs": [
    {
     "data": {
      "text/plain": [
       "0.9976616915422886"
      ]
     },
     "execution_count": 24,
     "metadata": {},
     "output_type": "execute_result"
    },
    {
     "data": {
      "text/plain": [
       "<sklearn.metrics._plot.confusion_matrix.ConfusionMatrixDisplay at 0x7f90c7446e30>"
      ]
     },
     "execution_count": 24,
     "metadata": {},
     "output_type": "execute_result"
    },
    {
     "data": {
      "image/png": "[encoded data removed]",
      "text/plain": [
       "<Figure size 640x480 with 2 Axes>"
      ]
     },
     "metadata": {},
     "output_type": "display_data"
    }
   ],
   "source": [
    "sklearn.metrics.accuracy_score(outcomeTrain, predTreeTrain)\n",
    "cmTreeTrain = sklearn.metrics.confusion_matrix(outcomeTrain, predTreeTrain)\n",
    "sklearn.metrics.ConfusionMatrixDisplay(cmTreeTrain, display_labels = modelTree.classes_).plot()"
   ]
  },
  {
   "cell_type": "markdown",
   "id": "baf634ca-cff6-46c8-b9a8-7bfcce718c96",
   "metadata": {},
   "source": [
    "We can quickly look at many metrics with the `classification_report`:"
   ]
  },
  {
   "cell_type": "code",
   "execution_count": 25,
   "id": "3f12c7d8-c730-437c-a44a-3df87bd5d501",
   "metadata": {},
   "outputs": [
    {
     "name": "stdout",
     "output_type": "stream",
     "text": [
      "              precision    recall  f1-score   support\n",
      "\n",
      "      Missed       0.99      1.00      0.99      4478\n",
      "        Paid       1.00      1.00      1.00     15622\n",
      "\n",
      "    accuracy                           1.00     20100\n",
      "   macro avg       1.00      1.00      1.00     20100\n",
      "weighted avg       1.00      1.00      1.00     20100\n",
      "\n"
     ]
    }
   ],
   "source": [
    "print(sklearn.metrics.classification_report(outcomeTrain, predTreeTrain))"
   ]
  },
  {
   "cell_type": "markdown",
   "id": "0e86cea6-d3d6-40fe-a6dc-1a56185ac9c3",
   "metadata": {},
   "source": [
    "* Out of all the people that the model predicted Missed, 99% actually Missed\n",
    "* Out of all the people that actually Missed, the model predicted 100% of them\n",
    "* Out of all the people that the model predicted Paid, 100% actually Paid\n",
    "* Out of all the people that actually Paid, the model predicted 100% of them\n",
    "* Support tells us how many of each case are in the data"
   ]
  },
  {
   "cell_type": "markdown",
   "id": "ee85d314-7546-47d7-b3b5-2c2a445fc19f",
   "metadata": {},
   "source": [
    "It's no surprise that the model does well on the training data that was used to build it. \n",
    "\n",
    "The real \"test\" (forgive the pun) is to see how the model fits the test data to assess overfitting:"
   ]
  },
  {
   "cell_type": "code",
   "execution_count": 26,
   "id": "fde1d826-ea77-4986-9c4c-bf26620d3044",
   "metadata": {},
   "outputs": [
    {
     "data": {
      "text/plain": [
       "<sklearn.metrics._plot.confusion_matrix.ConfusionMatrixDisplay at 0x7f90c741f250>"
      ]
     },
     "execution_count": 26,
     "metadata": {},
     "output_type": "execute_result"
    },
    {
     "name": "stdout",
     "output_type": "stream",
     "text": [
      "              precision    recall  f1-score   support\n",
      "\n",
      "      Missed       0.36      0.40      0.38      2158\n",
      "        Paid       0.83      0.80      0.81      7742\n",
      "\n",
      "    accuracy                           0.71      9900\n",
      "   macro avg       0.59      0.60      0.60      9900\n",
      "weighted avg       0.72      0.71      0.72      9900\n",
      "\n"
     ]
    },
    {
     "data": {
      "image/png": "[encoded data removed]",
      "text/plain": [
       "<Figure size 640x480 with 2 Axes>"
      ]
     },
     "metadata": {},
     "output_type": "display_data"
    }
   ],
   "source": [
    "# First create the predictions on the test data\n",
    "predTreeTest = modelTree.predict(featuresTest)\n",
    "\n",
    "# Then assess the fit\n",
    "cmTreeTest = sklearn.metrics.confusion_matrix(outcomeTest, predTreeTest)\n",
    "sklearn.metrics.ConfusionMatrixDisplay(cmTreeTest, display_labels = modelTree.classes_).plot()\n",
    "print(sklearn.metrics.classification_report(outcomeTest, predTreeTest))"
   ]
  },
  {
   "cell_type": "markdown",
   "id": "9ac171a7-076d-406f-8d67-8a22ea6a540e",
   "metadata": {},
   "source": [
    "How did the model do at predicting new data?\n",
    "* Bad overfitting\n",
    "* Decision trees, while nice to look at, are terrible about overfit"
   ]
  },
  {
   "cell_type": "markdown",
   "id": "5b29accf-a6c0-4119-b8d7-164020d12f5e",
   "metadata": {},
   "source": [
    "## Random Forests\n",
    "\n",
    "The steps are the same for random forests as they are for decision trees, with the exception that you use `sklearn.ensemble.RandomForestClassifier` to build the model:"
   ]
  },
  {
   "cell_type": "code",
   "execution_count": 27,
   "id": "c1af8208-73f6-4398-a69f-77d34afd66f3",
   "metadata": {},
   "outputs": [
    {
     "name": "stdout",
     "output_type": "stream",
     "text": [
      "              precision    recall  f1-score   support\n",
      "\n",
      "      Missed       1.00      0.99      0.99      4478\n",
      "        Paid       1.00      1.00      1.00     15622\n",
      "\n",
      "    accuracy                           1.00     20100\n",
      "   macro avg       1.00      1.00      1.00     20100\n",
      "weighted avg       1.00      1.00      1.00     20100\n",
      "\n",
      "              precision    recall  f1-score   support\n",
      "\n",
      "      Missed       0.58      0.36      0.44      2158\n",
      "        Paid       0.84      0.93      0.88      7742\n",
      "\n",
      "    accuracy                           0.80      9900\n",
      "   macro avg       0.71      0.64      0.66      9900\n",
      "weighted avg       0.78      0.80      0.79      9900\n",
      "\n"
     ]
    }
   ],
   "source": [
    "# 1. Set-up the model\n",
    "import sklearn.ensemble\n",
    "modelForest = sklearn.ensemble.RandomForestClassifier(random_state = 42)\n",
    "\n",
    "# 2. Fit the model using the training data\n",
    "resultForest = modelForest.fit(featuresTrain, outcomeTrain)\n",
    "\n",
    "# 3. Predict outcomes from the training and testing data\n",
    "predForestTrain = modelForest.predict(featuresTrain)\n",
    "predForestTest = modelForest.predict(featuresTest)\n",
    "\n",
    "# 4. Assess the fit\n",
    "print(sklearn.metrics.classification_report(outcomeTrain, predForestTrain))\n",
    "print(sklearn.metrics.classification_report(outcomeTest, predForestTest))"
   ]
  },
  {
   "cell_type": "markdown",
   "id": "72e128df-6942-43ae-8f7f-48255c2a887f",
   "metadata": {},
   "source": [
    "## Neural Network\n",
    "\n",
    "1. Set-up the model using `sklearn.neural_network.MLPClassifier`:"
   ]
  },
  {
   "cell_type": "code",
   "execution_count": 28,
   "id": "fc73697e-e8cb-4be0-8cdd-2c6307749ea3",
   "metadata": {},
   "outputs": [],
   "source": [
    "import sklearn.neural_network\n",
    "modelNeural = sklearn.neural_network.MLPClassifier(hidden_layer_sizes = (40, 40), random_state = 42)"
   ]
  },
  {
   "cell_type": "markdown",
   "id": "05bdae1b-78e9-41bd-83cb-832a67ca0d74",
   "metadata": {},
   "source": [
    "Steps 2-4 are exactly the same as for Decision Trees and Random Forests. Refer to the code above to fit the model, make predictions, and assess the fit (for both training and test data sets):"
   ]
  },
  {
   "cell_type": "code",
   "execution_count": 29,
   "id": "db26f229-6ebf-40b3-9a00-fe0c0188d0db",
   "metadata": {},
   "outputs": [
    {
     "name": "stdout",
     "output_type": "stream",
     "text": [
      "              precision    recall  f1-score   support\n",
      "\n",
      "      Missed       0.45      0.03      0.06      4478\n",
      "        Paid       0.78      0.99      0.87     15622\n",
      "\n",
      "    accuracy                           0.78     20100\n",
      "   macro avg       0.62      0.51      0.46     20100\n",
      "weighted avg       0.71      0.78      0.69     20100\n",
      "\n",
      "              precision    recall  f1-score   support\n",
      "\n",
      "      Missed       0.45      0.03      0.06      2158\n",
      "        Paid       0.79      0.99      0.88      7742\n",
      "\n",
      "    accuracy                           0.78      9900\n",
      "   macro avg       0.62      0.51      0.47      9900\n",
      "weighted avg       0.71      0.78      0.70      9900\n",
      "\n"
     ]
    }
   ],
   "source": [
    "# 2. Fit the model\n",
    "resultsNeural = modelNeural.fit(featuresTrain, outcomeTrain)\n",
    "\n",
    "# 3. Predict outcomes\n",
    "predNeuralTrain = modelNeural.predict(featuresTrain)\n",
    "predNeuralTest = modelNeural.predict(featuresTest)\n",
    "\n",
    "# 4. Assess the fit\n",
    "print(sklearn.metrics.classification_report(outcomeTrain, predNeuralTrain))\n",
    "print(sklearn.metrics.classification_report(outcomeTest, predNeuralTest))"
   ]
  },
  {
   "cell_type": "markdown",
   "id": "2ef91814-fb24-4cbc-be14-b2366ab3e72e",
   "metadata": {},
   "source": [
    "## Try Another...\n",
    "\n",
    "Instead of repeating the class exercise, use the 3 models we covered in class to try to classify the Species of flower in the data set, \"Iris.csv\":"
   ]
  },
  {
   "cell_type": "code",
   "execution_count": 30,
   "id": "f88b1e6d-e986-4564-8ec5-6d2a92c135bf",
   "metadata": {},
   "outputs": [
    {
     "data": {
      "text/html": [
       "<div>\n",
       "<style scoped>\n",
       "    .dataframe tbody tr th:only-of-type {\n",
       "        vertical-align: middle;\n",
       "    }\n",
       "\n",
       "    .dataframe tbody tr th {\n",
       "        vertical-align: top;\n",
       "    }\n",
       "\n",
       "    .dataframe thead th {\n",
       "        text-align: right;\n",
       "    }\n",
       "</style>\n",
       "<table border=\"1\" class=\"dataframe\">\n",
       "  <thead>\n",
       "    <tr style=\"text-align: right;\">\n",
       "      <th></th>\n",
       "      <th>Sepal.Length</th>\n",
       "      <th>Sepal.Width</th>\n",
       "      <th>Petal.Length</th>\n",
       "      <th>Petal.Width</th>\n",
       "      <th>Species</th>\n",
       "      <th>Petal.Shape</th>\n",
       "    </tr>\n",
       "  </thead>\n",
       "  <tbody>\n",
       "    <tr>\n",
       "      <th>0</th>\n",
       "      <td>5.1</td>\n",
       "      <td>3.5</td>\n",
       "      <td>1.4</td>\n",
       "      <td>0.2</td>\n",
       "      <td>setosa</td>\n",
       "      <td>round</td>\n",
       "    </tr>\n",
       "    <tr>\n",
       "      <th>1</th>\n",
       "      <td>4.9</td>\n",
       "      <td>3.0</td>\n",
       "      <td>1.4</td>\n",
       "      <td>0.2</td>\n",
       "      <td>setosa</td>\n",
       "      <td>pointy</td>\n",
       "    </tr>\n",
       "    <tr>\n",
       "      <th>2</th>\n",
       "      <td>4.7</td>\n",
       "      <td>3.2</td>\n",
       "      <td>1.3</td>\n",
       "      <td>0.2</td>\n",
       "      <td>setosa</td>\n",
       "      <td>pointy</td>\n",
       "    </tr>\n",
       "    <tr>\n",
       "      <th>3</th>\n",
       "      <td>4.6</td>\n",
       "      <td>3.1</td>\n",
       "      <td>1.5</td>\n",
       "      <td>0.2</td>\n",
       "      <td>setosa</td>\n",
       "      <td>round</td>\n",
       "    </tr>\n",
       "    <tr>\n",
       "      <th>4</th>\n",
       "      <td>5.0</td>\n",
       "      <td>3.6</td>\n",
       "      <td>1.4</td>\n",
       "      <td>0.2</td>\n",
       "      <td>setosa</td>\n",
       "      <td>round</td>\n",
       "    </tr>\n",
       "    <tr>\n",
       "      <th>...</th>\n",
       "      <td>...</td>\n",
       "      <td>...</td>\n",
       "      <td>...</td>\n",
       "      <td>...</td>\n",
       "      <td>...</td>\n",
       "      <td>...</td>\n",
       "    </tr>\n",
       "    <tr>\n",
       "      <th>145</th>\n",
       "      <td>6.7</td>\n",
       "      <td>3.0</td>\n",
       "      <td>5.2</td>\n",
       "      <td>2.3</td>\n",
       "      <td>virginica</td>\n",
       "      <td>pointy</td>\n",
       "    </tr>\n",
       "    <tr>\n",
       "      <th>146</th>\n",
       "      <td>6.3</td>\n",
       "      <td>2.5</td>\n",
       "      <td>5.0</td>\n",
       "      <td>1.9</td>\n",
       "      <td>virginica</td>\n",
       "      <td>pointy</td>\n",
       "    </tr>\n",
       "    <tr>\n",
       "      <th>147</th>\n",
       "      <td>6.5</td>\n",
       "      <td>3.0</td>\n",
       "      <td>5.2</td>\n",
       "      <td>2.0</td>\n",
       "      <td>virginica</td>\n",
       "      <td>round</td>\n",
       "    </tr>\n",
       "    <tr>\n",
       "      <th>148</th>\n",
       "      <td>6.2</td>\n",
       "      <td>3.4</td>\n",
       "      <td>5.4</td>\n",
       "      <td>2.3</td>\n",
       "      <td>virginica</td>\n",
       "      <td>round</td>\n",
       "    </tr>\n",
       "    <tr>\n",
       "      <th>149</th>\n",
       "      <td>5.9</td>\n",
       "      <td>3.0</td>\n",
       "      <td>5.1</td>\n",
       "      <td>1.8</td>\n",
       "      <td>virginica</td>\n",
       "      <td>pointy</td>\n",
       "    </tr>\n",
       "  </tbody>\n",
       "</table>\n",
       "<p>150 rows × 6 columns</p>\n",
       "</div>"
      ],
      "text/plain": [
       "     Sepal.Length  Sepal.Width  Petal.Length  Petal.Width    Species  \\\n",
       "0             5.1          3.5           1.4          0.2     setosa   \n",
       "1             4.9          3.0           1.4          0.2     setosa   \n",
       "2             4.7          3.2           1.3          0.2     setosa   \n",
       "3             4.6          3.1           1.5          0.2     setosa   \n",
       "4             5.0          3.6           1.4          0.2     setosa   \n",
       "..            ...          ...           ...          ...        ...   \n",
       "145           6.7          3.0           5.2          2.3  virginica   \n",
       "146           6.3          2.5           5.0          1.9  virginica   \n",
       "147           6.5          3.0           5.2          2.0  virginica   \n",
       "148           6.2          3.4           5.4          2.3  virginica   \n",
       "149           5.9          3.0           5.1          1.8  virginica   \n",
       "\n",
       "    Petal.Shape  \n",
       "0         round  \n",
       "1        pointy  \n",
       "2        pointy  \n",
       "3         round  \n",
       "4         round  \n",
       "..          ...  \n",
       "145      pointy  \n",
       "146      pointy  \n",
       "147       round  \n",
       "148       round  \n",
       "149      pointy  \n",
       "\n",
       "[150 rows x 6 columns]"
      ]
     },
     "execution_count": 30,
     "metadata": {},
     "output_type": "execute_result"
    },
    {
     "data": {
      "text/plain": [
       "Sepal.Length    float64\n",
       "Sepal.Width     float64\n",
       "Petal.Length    float64\n",
       "Petal.Width     float64\n",
       "Species          object\n",
       "Petal.Shape      object\n",
       "dtype: object"
      ]
     },
     "execution_count": 30,
     "metadata": {},
     "output_type": "execute_result"
    },
    {
     "data": {
      "text/plain": [
       "Sepal.Length    0\n",
       "Sepal.Width     0\n",
       "Petal.Length    0\n",
       "Petal.Width     0\n",
       "Species         0\n",
       "Petal.Shape     0\n",
       "dtype: int64"
      ]
     },
     "execution_count": 30,
     "metadata": {},
     "output_type": "execute_result"
    },
    {
     "data": {
      "text/html": [
       "<div>\n",
       "<style scoped>\n",
       "    .dataframe tbody tr th:only-of-type {\n",
       "        vertical-align: middle;\n",
       "    }\n",
       "\n",
       "    .dataframe tbody tr th {\n",
       "        vertical-align: top;\n",
       "    }\n",
       "\n",
       "    .dataframe thead th {\n",
       "        text-align: right;\n",
       "    }\n",
       "</style>\n",
       "<table border=\"1\" class=\"dataframe\">\n",
       "  <thead>\n",
       "    <tr style=\"text-align: right;\">\n",
       "      <th></th>\n",
       "      <th>Sepal.Length</th>\n",
       "      <th>Sepal.Width</th>\n",
       "      <th>Petal.Length</th>\n",
       "      <th>Petal.Width</th>\n",
       "    </tr>\n",
       "  </thead>\n",
       "  <tbody>\n",
       "    <tr>\n",
       "      <th>count</th>\n",
       "      <td>150.000000</td>\n",
       "      <td>150.000000</td>\n",
       "      <td>150.000000</td>\n",
       "      <td>150.000000</td>\n",
       "    </tr>\n",
       "    <tr>\n",
       "      <th>mean</th>\n",
       "      <td>5.843333</td>\n",
       "      <td>3.057333</td>\n",
       "      <td>3.758000</td>\n",
       "      <td>1.199333</td>\n",
       "    </tr>\n",
       "    <tr>\n",
       "      <th>std</th>\n",
       "      <td>0.828066</td>\n",
       "      <td>0.435866</td>\n",
       "      <td>1.765298</td>\n",
       "      <td>0.762238</td>\n",
       "    </tr>\n",
       "    <tr>\n",
       "      <th>min</th>\n",
       "      <td>4.300000</td>\n",
       "      <td>2.000000</td>\n",
       "      <td>1.000000</td>\n",
       "      <td>0.100000</td>\n",
       "    </tr>\n",
       "    <tr>\n",
       "      <th>25%</th>\n",
       "      <td>5.100000</td>\n",
       "      <td>2.800000</td>\n",
       "      <td>1.600000</td>\n",
       "      <td>0.300000</td>\n",
       "    </tr>\n",
       "    <tr>\n",
       "      <th>50%</th>\n",
       "      <td>5.800000</td>\n",
       "      <td>3.000000</td>\n",
       "      <td>4.350000</td>\n",
       "      <td>1.300000</td>\n",
       "    </tr>\n",
       "    <tr>\n",
       "      <th>75%</th>\n",
       "      <td>6.400000</td>\n",
       "      <td>3.300000</td>\n",
       "      <td>5.100000</td>\n",
       "      <td>1.800000</td>\n",
       "    </tr>\n",
       "    <tr>\n",
       "      <th>max</th>\n",
       "      <td>7.900000</td>\n",
       "      <td>4.400000</td>\n",
       "      <td>6.900000</td>\n",
       "      <td>2.500000</td>\n",
       "    </tr>\n",
       "  </tbody>\n",
       "</table>\n",
       "</div>"
      ],
      "text/plain": [
       "       Sepal.Length  Sepal.Width  Petal.Length  Petal.Width\n",
       "count    150.000000   150.000000    150.000000   150.000000\n",
       "mean       5.843333     3.057333      3.758000     1.199333\n",
       "std        0.828066     0.435866      1.765298     0.762238\n",
       "min        4.300000     2.000000      1.000000     0.100000\n",
       "25%        5.100000     2.800000      1.600000     0.300000\n",
       "50%        5.800000     3.000000      4.350000     1.300000\n",
       "75%        6.400000     3.300000      5.100000     1.800000\n",
       "max        7.900000     4.400000      6.900000     2.500000"
      ]
     },
     "execution_count": 30,
     "metadata": {},
     "output_type": "execute_result"
    },
    {
     "data": {
      "text/plain": [
       "setosa        50\n",
       "versicolor    50\n",
       "virginica     50\n",
       "Name: Species, dtype: int64"
      ]
     },
     "execution_count": 30,
     "metadata": {},
     "output_type": "execute_result"
    },
    {
     "data": {
      "text/plain": [
       "round     79\n",
       "pointy    71\n",
       "Name: Petal.Shape, dtype: int64"
      ]
     },
     "execution_count": 30,
     "metadata": {},
     "output_type": "execute_result"
    }
   ],
   "source": [
    "iris = pd.read_csv(\"Iris.csv\")\n",
    "iris\n",
    "iris.dtypes\n",
    "iris.isna().sum()\n",
    "iris.describe()\n",
    "iris[\"Species\"].value_counts()\n",
    "iris[\"Petal.Shape\"].value_counts()"
   ]
  },
  {
   "cell_type": "markdown",
   "id": "42744458-9657-4279-aa2d-a03f596031b7",
   "metadata": {},
   "source": [
    "### Set up your Outcome and Features"
   ]
  },
  {
   "cell_type": "code",
   "execution_count": 31,
   "id": "f135bf0f-a92c-4e7d-a50c-f7e8fcf20312",
   "metadata": {},
   "outputs": [
    {
     "data": {
      "text/plain": [
       "0         setosa\n",
       "1         setosa\n",
       "2         setosa\n",
       "3         setosa\n",
       "4         setosa\n",
       "         ...    \n",
       "145    virginica\n",
       "146    virginica\n",
       "147    virginica\n",
       "148    virginica\n",
       "149    virginica\n",
       "Name: Species, Length: 150, dtype: object"
      ]
     },
     "execution_count": 31,
     "metadata": {},
     "output_type": "execute_result"
    },
    {
     "data": {
      "text/html": [
       "<div>\n",
       "<style scoped>\n",
       "    .dataframe tbody tr th:only-of-type {\n",
       "        vertical-align: middle;\n",
       "    }\n",
       "\n",
       "    .dataframe tbody tr th {\n",
       "        vertical-align: top;\n",
       "    }\n",
       "\n",
       "    .dataframe thead th {\n",
       "        text-align: right;\n",
       "    }\n",
       "</style>\n",
       "<table border=\"1\" class=\"dataframe\">\n",
       "  <thead>\n",
       "    <tr style=\"text-align: right;\">\n",
       "      <th></th>\n",
       "      <th>Sepal.Length</th>\n",
       "      <th>Sepal.Width</th>\n",
       "      <th>Petal.Length</th>\n",
       "      <th>Petal.Width</th>\n",
       "      <th>Shape_round</th>\n",
       "    </tr>\n",
       "  </thead>\n",
       "  <tbody>\n",
       "    <tr>\n",
       "      <th>0</th>\n",
       "      <td>5.1</td>\n",
       "      <td>3.5</td>\n",
       "      <td>1.4</td>\n",
       "      <td>0.2</td>\n",
       "      <td>1</td>\n",
       "    </tr>\n",
       "    <tr>\n",
       "      <th>1</th>\n",
       "      <td>4.9</td>\n",
       "      <td>3.0</td>\n",
       "      <td>1.4</td>\n",
       "      <td>0.2</td>\n",
       "      <td>0</td>\n",
       "    </tr>\n",
       "    <tr>\n",
       "      <th>2</th>\n",
       "      <td>4.7</td>\n",
       "      <td>3.2</td>\n",
       "      <td>1.3</td>\n",
       "      <td>0.2</td>\n",
       "      <td>0</td>\n",
       "    </tr>\n",
       "    <tr>\n",
       "      <th>3</th>\n",
       "      <td>4.6</td>\n",
       "      <td>3.1</td>\n",
       "      <td>1.5</td>\n",
       "      <td>0.2</td>\n",
       "      <td>1</td>\n",
       "    </tr>\n",
       "    <tr>\n",
       "      <th>4</th>\n",
       "      <td>5.0</td>\n",
       "      <td>3.6</td>\n",
       "      <td>1.4</td>\n",
       "      <td>0.2</td>\n",
       "      <td>1</td>\n",
       "    </tr>\n",
       "    <tr>\n",
       "      <th>...</th>\n",
       "      <td>...</td>\n",
       "      <td>...</td>\n",
       "      <td>...</td>\n",
       "      <td>...</td>\n",
       "      <td>...</td>\n",
       "    </tr>\n",
       "    <tr>\n",
       "      <th>145</th>\n",
       "      <td>6.7</td>\n",
       "      <td>3.0</td>\n",
       "      <td>5.2</td>\n",
       "      <td>2.3</td>\n",
       "      <td>0</td>\n",
       "    </tr>\n",
       "    <tr>\n",
       "      <th>146</th>\n",
       "      <td>6.3</td>\n",
       "      <td>2.5</td>\n",
       "      <td>5.0</td>\n",
       "      <td>1.9</td>\n",
       "      <td>0</td>\n",
       "    </tr>\n",
       "    <tr>\n",
       "      <th>147</th>\n",
       "      <td>6.5</td>\n",
       "      <td>3.0</td>\n",
       "      <td>5.2</td>\n",
       "      <td>2.0</td>\n",
       "      <td>1</td>\n",
       "    </tr>\n",
       "    <tr>\n",
       "      <th>148</th>\n",
       "      <td>6.2</td>\n",
       "      <td>3.4</td>\n",
       "      <td>5.4</td>\n",
       "      <td>2.3</td>\n",
       "      <td>1</td>\n",
       "    </tr>\n",
       "    <tr>\n",
       "      <th>149</th>\n",
       "      <td>5.9</td>\n",
       "      <td>3.0</td>\n",
       "      <td>5.1</td>\n",
       "      <td>1.8</td>\n",
       "      <td>0</td>\n",
       "    </tr>\n",
       "  </tbody>\n",
       "</table>\n",
       "<p>150 rows × 5 columns</p>\n",
       "</div>"
      ],
      "text/plain": [
       "     Sepal.Length  Sepal.Width  Petal.Length  Petal.Width  Shape_round\n",
       "0             5.1          3.5           1.4          0.2            1\n",
       "1             4.9          3.0           1.4          0.2            0\n",
       "2             4.7          3.2           1.3          0.2            0\n",
       "3             4.6          3.1           1.5          0.2            1\n",
       "4             5.0          3.6           1.4          0.2            1\n",
       "..            ...          ...           ...          ...          ...\n",
       "145           6.7          3.0           5.2          2.3            0\n",
       "146           6.3          2.5           5.0          1.9            0\n",
       "147           6.5          3.0           5.2          2.0            1\n",
       "148           6.2          3.4           5.4          2.3            1\n",
       "149           5.9          3.0           5.1          1.8            0\n",
       "\n",
       "[150 rows x 5 columns]"
      ]
     },
     "execution_count": 31,
     "metadata": {},
     "output_type": "execute_result"
    }
   ],
   "source": [
    "outcome1 = iris[\"Species\"]\n",
    "numericFeatures1 = iris[[\"Sepal.Length\", \"Sepal.Width\", \"Petal.Length\", \"Petal.Width\"]]\n",
    "dummyShape = pd.get_dummies(iris[\"Petal.Shape\"], prefix = \"Shape\", drop_first = True)\n",
    "features1 = pd.concat([numericFeatures1, dummyShape], axis = 1)\n",
    "outcome1\n",
    "features1"
   ]
  },
  {
   "cell_type": "markdown",
   "id": "19f631de-975b-4569-8244-f322ad22b3ce",
   "metadata": {},
   "source": [
    "### Partition the Data"
   ]
  },
  {
   "cell_type": "code",
   "execution_count": 32,
   "id": "1cd39e2c-0fd1-412d-8993-a1cc87edb9b5",
   "metadata": {},
   "outputs": [],
   "source": [
    "from sklearn.model_selection import train_test_split\n",
    "featuresTrain1, featuresTest1, outcomeTrain1, outcomeTest1 = train_test_split(features1, outcome1, test_size = 0.33, random_state = 42)"
   ]
  },
  {
   "cell_type": "markdown",
   "id": "76d1c994-b638-4bdd-a2de-75b9d7dd351d",
   "metadata": {},
   "source": [
    "### Decision Tree"
   ]
  },
  {
   "cell_type": "code",
   "execution_count": 33,
   "id": "b95f9325-ec9d-4bad-a274-f05a706ef381",
   "metadata": {},
   "outputs": [
    {
     "name": "stdout",
     "output_type": "stream",
     "text": [
      "              precision    recall  f1-score   support\n",
      "\n",
      "      setosa       1.00      1.00      1.00        31\n",
      "  versicolor       1.00      1.00      1.00        35\n",
      "   virginica       1.00      1.00      1.00        34\n",
      "\n",
      "    accuracy                           1.00       100\n",
      "   macro avg       1.00      1.00      1.00       100\n",
      "weighted avg       1.00      1.00      1.00       100\n",
      "\n",
      "              precision    recall  f1-score   support\n",
      "\n",
      "      setosa       1.00      1.00      1.00        19\n",
      "  versicolor       0.94      1.00      0.97        15\n",
      "   virginica       1.00      0.94      0.97        16\n",
      "\n",
      "    accuracy                           0.98        50\n",
      "   macro avg       0.98      0.98      0.98        50\n",
      "weighted avg       0.98      0.98      0.98        50\n",
      "\n"
     ]
    }
   ],
   "source": [
    "# 1. Set-up the model\n",
    "import sklearn.tree\n",
    "modelTree1 = sklearn.tree.DecisionTreeClassifier(random_state = 42)\n",
    "\n",
    "# 2. Fit the model using the training data\n",
    "resultTree1 = modelTree1.fit(featuresTrain1, outcomeTrain1)\n",
    "\n",
    "# 3. Predict outcomes from the training and testing data\n",
    "predTreeTrain1 = modelTree1.predict(featuresTrain1)\n",
    "predTreeTest1 = modelTree1.predict(featuresTest1)\n",
    "\n",
    "# 4. Assess the fit\n",
    "print(sklearn.metrics.classification_report(outcomeTrain1, predTreeTrain1))\n",
    "print(sklearn.metrics.classification_report(outcomeTest1, predTreeTest1))"
   ]
  },
  {
   "cell_type": "markdown",
   "id": "43acd2a8-025b-4119-ae72-b281319ce0bb",
   "metadata": {},
   "source": [
    "### Random Forest"
   ]
  },
  {
   "cell_type": "code",
   "execution_count": 34,
   "id": "0c3e50b5-c939-4a3c-9fe0-71573a9a4ce3",
   "metadata": {},
   "outputs": [
    {
     "name": "stdout",
     "output_type": "stream",
     "text": [
      "              precision    recall  f1-score   support\n",
      "\n",
      "      setosa       1.00      1.00      1.00        31\n",
      "  versicolor       1.00      1.00      1.00        35\n",
      "   virginica       1.00      1.00      1.00        34\n",
      "\n",
      "    accuracy                           1.00       100\n",
      "   macro avg       1.00      1.00      1.00       100\n",
      "weighted avg       1.00      1.00      1.00       100\n",
      "\n",
      "              precision    recall  f1-score   support\n",
      "\n",
      "      setosa       1.00      1.00      1.00        19\n",
      "  versicolor       0.94      1.00      0.97        15\n",
      "   virginica       1.00      0.94      0.97        16\n",
      "\n",
      "    accuracy                           0.98        50\n",
      "   macro avg       0.98      0.98      0.98        50\n",
      "weighted avg       0.98      0.98      0.98        50\n",
      "\n"
     ]
    }
   ],
   "source": [
    "# 1. Set-up the model\n",
    "import sklearn.ensemble\n",
    "modelForest1 = sklearn.ensemble.RandomForestClassifier(random_state = 42)\n",
    "\n",
    "# 2. Fit the model using the training data\n",
    "resultForest1 = modelForest1.fit(featuresTrain1, outcomeTrain1)\n",
    "\n",
    "# 3. Predict outcomes from the training and testing data\n",
    "predForestTrain1 = modelForest1.predict(featuresTrain1)\n",
    "predForestTest1 = modelForest1.predict(featuresTest1)\n",
    "\n",
    "# 4. Assess the fit\n",
    "print(sklearn.metrics.classification_report(outcomeTrain1, predForestTrain1))\n",
    "print(sklearn.metrics.classification_report(outcomeTest1, predForestTest1))"
   ]
  },
  {
   "cell_type": "markdown",
   "id": "7b463a95-3e3a-4a5e-a4ef-3dd33d8516ed",
   "metadata": {},
   "source": [
    "### Neural Network"
   ]
  },
  {
   "cell_type": "code",
   "execution_count": 35,
   "id": "a55b531a-477c-4dfb-b9c4-aaf9f83d4401",
   "metadata": {},
   "outputs": [
    {
     "name": "stdout",
     "output_type": "stream",
     "text": [
      "              precision    recall  f1-score   support\n",
      "\n",
      "      setosa       1.00      1.00      1.00        31\n",
      "  versicolor       0.97      0.97      0.97        35\n",
      "   virginica       0.97      0.97      0.97        34\n",
      "\n",
      "    accuracy                           0.98       100\n",
      "   macro avg       0.98      0.98      0.98       100\n",
      "weighted avg       0.98      0.98      0.98       100\n",
      "\n",
      "              precision    recall  f1-score   support\n",
      "\n",
      "      setosa       1.00      1.00      1.00        19\n",
      "  versicolor       0.93      0.93      0.93        15\n",
      "   virginica       0.94      0.94      0.94        16\n",
      "\n",
      "    accuracy                           0.96        50\n",
      "   macro avg       0.96      0.96      0.96        50\n",
      "weighted avg       0.96      0.96      0.96        50\n",
      "\n"
     ]
    }
   ],
   "source": [
    "# 1. Set-up the model\n",
    "import sklearn.neural_network\n",
    "modelNeural1 = sklearn.neural_network.MLPClassifier(hidden_layer_sizes = (10, 10), random_state = 42, max_iter = 1000)\n",
    "# Note: I added max_iter = 500 because, without it, I received a warning\n",
    "# that the model had not converged yet...this is another parameter you can\n",
    "# play with\n",
    "\n",
    "# 2. Fit the model\n",
    "resultsNeural1 = modelNeural1.fit(featuresTrain1, outcomeTrain1)\n",
    "\n",
    "# 3. Predict outcomes\n",
    "predNeuralTrain1 = modelNeural1.predict(featuresTrain1)\n",
    "predNeuralTest1 = modelNeural1.predict(featuresTest1)\n",
    "\n",
    "# 4. Assess the fit\n",
    "print(sklearn.metrics.classification_report(outcomeTrain1, predNeuralTrain1))\n",
    "print(sklearn.metrics.classification_report(outcomeTest1, predNeuralTest1))"
   ]
  }
 ],
 "metadata": {
  "kernelspec": {
   "display_name": "Python 3 (ipykernel)",
   "language": "python",
   "name": "python3"
  },
  "language_info": {
   "codemirror_mode": {
    "name": "ipython",
    "version": 3
   },
   "file_extension": ".py",
   "mimetype": "text/x-python",
   "name": "python",
   "nbconvert_exporter": "python",
   "pygments_lexer": "ipython3",
   "version": "3.10.8"
  }
 },
 "nbformat": 4,
 "nbformat_minor": 5
}
